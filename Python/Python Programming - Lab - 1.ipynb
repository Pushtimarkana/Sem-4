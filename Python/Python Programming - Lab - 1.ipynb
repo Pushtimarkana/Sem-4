{
 "cells": [
  {
   "cell_type": "markdown",
   "metadata": {},
   "source": [
    "<a href='https://www.darshan.ac.in/'> <img src='https://www.darshan.ac.in/Content/media/DU_Logo.svg' width=\"250\" height=\"10\"/></a>\n",
    "<pre>\n",
    "<center><b><h1>Python Programming - 2301CS404</b></center>\n",
    "<center><b><h1>Lab - 1</b></center> \n",
    "    <center>Pushti Markana || 23010101160</center>\n",
    "<pre>"
   ]
  },
  {
   "cell_type": "markdown",
   "metadata": {},
   "source": [
    "### 01) WAP to print “Hello World”"
   ]
  },
  {
   "cell_type": "code",
   "execution_count": 1,
   "metadata": {},
   "outputs": [
    {
     "name": "stdout",
     "output_type": "stream",
     "text": [
      "Hello World\n"
     ]
    }
   ],
   "source": [
    "print(\"Hello World\")"
   ]
  },
  {
   "cell_type": "markdown",
   "metadata": {},
   "source": [
    "### 02) WAP to print addition of two numbers with and without using input()."
   ]
  },
  {
   "cell_type": "code",
   "execution_count": 7,
   "metadata": {},
   "outputs": [
    {
     "name": "stdout",
     "output_type": "stream",
     "text": [
      "15\n"
     ]
    },
    {
     "name": "stdin",
     "output_type": "stream",
     "text": [
      " 15\n",
      " 30\n"
     ]
    },
    {
     "name": "stdout",
     "output_type": "stream",
     "text": [
      "45\n"
     ]
    }
   ],
   "source": [
    "a2=5\n",
    "b2=10\n",
    "print(a2+b2)\n",
    "\n",
    "c2=int(input())\n",
    "d2=int(input())\n",
    "print(c2+d2)"
   ]
  },
  {
   "cell_type": "markdown",
   "metadata": {},
   "source": [
    "### 03) WAP to check the type of the variable."
   ]
  },
  {
   "cell_type": "code",
   "execution_count": 81,
   "metadata": {},
   "outputs": [
    {
     "name": "stdin",
     "output_type": "stream",
     "text": [
      "Enter value: 23.5897\n"
     ]
    },
    {
     "name": "stdout",
     "output_type": "stream",
     "text": [
      "<class 'str'>\n",
      "The input can be a float: <class 'float'>\n"
     ]
    }
   ],
   "source": [
    "a3=input(\"Enter value:\")\n",
    "print(type(a3))\n",
    "try:\n",
    "    value_int = int(a3)\n",
    "    print(\"The input can be an integer:\", type(value_int))\n",
    "except ValueError:\n",
    "    pass\n",
    "\n",
    "try:\n",
    "    value_float = float(a3)\n",
    "    print(\"The input can be a float:\", type(value_float))\n",
    "except ValueError:\n",
    "    pass"
   ]
  },
  {
   "cell_type": "markdown",
   "metadata": {},
   "source": [
    "### 04) WAP to calculate simple interest."
   ]
  },
  {
   "cell_type": "code",
   "execution_count": 19,
   "metadata": {},
   "outputs": [
    {
     "name": "stdin",
     "output_type": "stream",
     "text": [
      "Enter the principal amount (P): 9000\n",
      "Enter the rate of interest (R) in percentage: 0.07\n",
      "Enter the time (T) in years: 5\n"
     ]
    },
    {
     "name": "stdout",
     "output_type": "stream",
     "text": [
      "Simple interest 31.500000000000004\n"
     ]
    }
   ],
   "source": [
    "p4=float(input(\"Enter the principal amount (P):\"))\n",
    "r4=float(input(\"Enter the rate of interest (R) in percentage:\"))\n",
    "n4=float(input(\"Enter the time (T) in years:\"))\n",
    "\n",
    "i4=(p4*r4*n4)/100\n",
    "print(\"Simple interest\",i4)\n",
    "\n",
    "    "
   ]
  },
  {
   "cell_type": "markdown",
   "metadata": {},
   "source": [
    "### 05) WAP to calculate area and perimeter of a circle."
   ]
  },
  {
   "cell_type": "code",
   "execution_count": 25,
   "metadata": {},
   "outputs": [
    {
     "name": "stdin",
     "output_type": "stream",
     "text": [
      "Enter radius of circle: 7\n"
     ]
    },
    {
     "name": "stdout",
     "output_type": "stream",
     "text": [
      "Area of circle is: 153.93804002589985\n",
      "perimeter of circle is: 43.982297150257104\n"
     ]
    }
   ],
   "source": [
    "import math\n",
    "r5=float(input(\"Enter radius of circle:\"))\n",
    "\n",
    "area5= math.pi * (r5**2)\n",
    "peri5= 2 * math.pi * r5\n",
    "print(\"Area of circle is:\",area5)\n",
    "print(\"perimeter of circle is:\",peri5)\n",
    "\n"
   ]
  },
  {
   "cell_type": "markdown",
   "metadata": {},
   "source": [
    "### 06) WAP to calculate area of a triangle."
   ]
  },
  {
   "cell_type": "code",
   "execution_count": 31,
   "metadata": {},
   "outputs": [
    {
     "name": "stdin",
     "output_type": "stream",
     "text": [
      "Enter base of triangle: 10\n",
      "Enter height of triangle: 10\n"
     ]
    },
    {
     "name": "stdout",
     "output_type": "stream",
     "text": [
      "Area of triangle: 50.0\n"
     ]
    }
   ],
   "source": [
    "base6=float(input(\"Enter base of triangle:\"))\n",
    "height6=float(input(\"Enter height of triangle:\"))\n",
    "\n",
    "area6=(1/2) * base6 * height6\n",
    "print(\"Area of triangle:\",area6)"
   ]
  },
  {
   "cell_type": "markdown",
   "metadata": {},
   "source": [
    "### 07) WAP to compute quotient and remainder."
   ]
  },
  {
   "cell_type": "code",
   "execution_count": 33,
   "metadata": {},
   "outputs": [
    {
     "name": "stdin",
     "output_type": "stream",
     "text": [
      "Enter the dividend:  10\n",
      "Enter the divisor:  3\n"
     ]
    },
    {
     "name": "stdout",
     "output_type": "stream",
     "text": [
      "Quotient: 3\n",
      "Remainder: 1\n"
     ]
    }
   ],
   "source": [
    "dividend = int(input(\"Enter the dividend: \"))\n",
    "divisor = int(input(\"Enter the divisor: \"))\n",
    "\n",
    "quotient = dividend // divisor\n",
    "remainder = dividend % divisor\n",
    "\n",
    "print(\"Quotient:\", quotient)\n",
    "print(\"Remainder:\", remainder)"
   ]
  },
  {
   "cell_type": "markdown",
   "metadata": {},
   "source": [
    "### 08) WAP to convert degree into Fahrenheit and vice versa."
   ]
  },
  {
   "cell_type": "code",
   "execution_count": 43,
   "metadata": {},
   "outputs": [
    {
     "name": "stdin",
     "output_type": "stream",
     "text": [
      "Enter Tempeture choise 1 for decgree or 2 for fehrenheit: 2\n",
      "Enter tempeature: -40\n"
     ]
    },
    {
     "name": "stdout",
     "output_type": "stream",
     "text": [
      "Tempeature in degree: -40.0\n"
     ]
    }
   ],
   "source": [
    "a8=int(input(\"Enter Tempeture choise 1 for decgree or 2 for fehrenheit:\"))\n",
    "temp8=float(input(\"Enter tempeature:\"))\n",
    "if (a8==1):\n",
    "    f8=(9/5)*temp8 + 32\n",
    "    print(\"Tempeature in fehrenheit:\",f8)\n",
    "elif(a8==2):\n",
    "    c8=(temp8-32) * (5/9)\n",
    "    print(\"Tempeature in degree:\",f8)\n",
    "else:\n",
    "    print(\"Invalid choise\")"
   ]
  },
  {
   "cell_type": "markdown",
   "metadata": {},
   "source": [
    "### 09) WAP to find the distance between two points in 2-D space."
   ]
  },
  {
   "cell_type": "code",
   "execution_count": 49,
   "metadata": {},
   "outputs": [
    {
     "name": "stdin",
     "output_type": "stream",
     "text": [
      "Enter coordinate as x1: 1\n",
      "Enter coordinate as y1: 2\n",
      "Enter coordinate as x2: 4\n",
      "Enter coordinate as y2: 6\n"
     ]
    },
    {
     "name": "stdout",
     "output_type": "stream",
     "text": [
      "distance between 2 points : 4.47213595499958\n"
     ]
    }
   ],
   "source": [
    "import math\n",
    "\n",
    "x9=float(input(\"Enter coordinate as x1:\"))\n",
    "y9=float(input(\"Enter coordinate as y1:\"))\n",
    "x10=float(input(\"Enter coordinate as x2:\"))\n",
    "y10=float(input(\"Enter coordinate as y2:\"))\n",
    "\n",
    "distance=math.sqrt(((x10-y9)**2)+((y10-y9)**2))\n",
    "print(\"distance between 2 points :\",distance)"
   ]
  },
  {
   "cell_type": "markdown",
   "metadata": {},
   "source": [
    "### 10) WAP to print sum of n natural numbers."
   ]
  },
  {
   "cell_type": "code",
   "execution_count": 57,
   "metadata": {},
   "outputs": [
    {
     "name": "stdin",
     "output_type": "stream",
     "text": [
      "Enter number: 10\n"
     ]
    },
    {
     "name": "stdout",
     "output_type": "stream",
     "text": [
      "Sum of n nature number: 55\n"
     ]
    }
   ],
   "source": [
    "n10=int(input(\"Enter number:\"))\n",
    "sum=0\n",
    "for i in range(1,n10+1):\n",
    "    sum=sum+i\n",
    "print(\"Sum of n nature number:\",sum)"
   ]
  },
  {
   "cell_type": "markdown",
   "metadata": {},
   "source": [
    "### 11) WAP to print sum of square of n natural numbers."
   ]
  },
  {
   "cell_type": "code",
   "execution_count": 61,
   "metadata": {},
   "outputs": [
    {
     "name": "stdin",
     "output_type": "stream",
     "text": [
      "Enter number: 5\n"
     ]
    },
    {
     "name": "stdout",
     "output_type": "stream",
     "text": [
      "Sum of n nature number: 55\n"
     ]
    }
   ],
   "source": [
    "n11=int(input(\"Enter number:\"))\n",
    "sum=0\n",
    "for i in range(1,n11+1):\n",
    "    sum=sum+(i**2)\n",
    "print(\"Sum of n nature number:\",sum)"
   ]
  },
  {
   "cell_type": "markdown",
   "metadata": {},
   "source": [
    "### 12) WAP to concate the first and last name of the student."
   ]
  },
  {
   "cell_type": "code",
   "execution_count": 67,
   "metadata": {},
   "outputs": [
    {
     "name": "stdin",
     "output_type": "stream",
     "text": [
      "Enter student first name: pushti\n",
      "Enter student last name: markana\n"
     ]
    },
    {
     "name": "stdout",
     "output_type": "stream",
     "text": [
      "pushti markana\n"
     ]
    }
   ],
   "source": [
    "f_name=input(\"Enter student first name:\")\n",
    "l_name=input(\"Enter student last name:\")\n",
    "\n",
    "name=f_name+\" \"+l_name\n",
    "print(name)"
   ]
  },
  {
   "cell_type": "markdown",
   "metadata": {},
   "source": [
    "### 13) WAP to swap two numbers."
   ]
  },
  {
   "cell_type": "code",
   "execution_count": 69,
   "metadata": {},
   "outputs": [
    {
     "name": "stdin",
     "output_type": "stream",
     "text": [
      "Enter  anumber: 5\n",
      "Enter second number: 3\n"
     ]
    },
    {
     "name": "stdout",
     "output_type": "stream",
     "text": [
      "a13 : 3 b13: 5\n"
     ]
    }
   ],
   "source": [
    "a13=int(input(\"Enter  anumber:\"))\n",
    "b13=int(input(\"Enter second number:\"))\n",
    "\n",
    "a13=a13+b13\n",
    "b13=a13-b13\n",
    "a13=a13-b13\n",
    "\n",
    "print(\"a13 :\",a13,\"b13:\",b13)\n",
    "    "
   ]
  },
  {
   "cell_type": "markdown",
   "metadata": {},
   "source": [
    "### 14) WAP to get the distance from user into kilometer, and convert it into meter, feet, inches and centimeter."
   ]
  },
  {
   "cell_type": "code",
   "execution_count": 73,
   "metadata": {},
   "outputs": [
    {
     "name": "stdin",
     "output_type": "stream",
     "text": [
      "Enter distance in kilometer: 5\n"
     ]
    },
    {
     "name": "stdout",
     "output_type": "stream",
     "text": [
      "meters = 5000\n",
      "feet = 16404.2\n",
      "inches = 196850.5\n",
      "centimeters = 500000\n"
     ]
    }
   ],
   "source": [
    "kilometers=int(input(\"Enter distance in kilometer:\"))\n",
    "\n",
    "\n",
    "print(\"meters =\",kilometers * 1000)\n",
    "print(\"feet =\",kilometers * 3280.84)\n",
    "print(\"inches =\",kilometers * 39370.1)\n",
    "print(\"centimeters =\",kilometers * 100000)"
   ]
  },
  {
   "cell_type": "markdown",
   "metadata": {},
   "source": [
    "### 15) WAP to get day, month and year from the user and print the date in the given format: 23-11-2024."
   ]
  },
  {
   "cell_type": "code",
   "execution_count": 75,
   "metadata": {},
   "outputs": [
    {
     "name": "stdin",
     "output_type": "stream",
     "text": [
      "Enter the day (DD):  23\n",
      "Enter the month (MM):  04\n",
      "Enter the year (YYYY):  2005\n"
     ]
    },
    {
     "name": "stdout",
     "output_type": "stream",
     "text": [
      "Date is 23 - 04 - 2005\n"
     ]
    }
   ],
   "source": [
    "day = input(\"Enter the day (DD): \")\n",
    "month = input(\"Enter the month (MM): \")\n",
    "year = input(\"Enter the year (YYYY): \")\n",
    "\n",
    "# Print the date in the desired format: DD-MM-YYYY\n",
    "print(\"Date is\",day,\"-\",month,\"-\",year)"
   ]
  },
  {
   "cell_type": "code",
   "execution_count": null,
   "metadata": {},
   "outputs": [],
   "source": []
  }
 ],
 "metadata": {
  "kernelspec": {
   "display_name": "Python 3 (ipykernel)",
   "language": "python",
   "name": "python3"
  },
  "language_info": {
   "codemirror_mode": {
    "name": "ipython",
    "version": 3
   },
   "file_extension": ".py",
   "mimetype": "text/x-python",
   "name": "python",
   "nbconvert_exporter": "python",
   "pygments_lexer": "ipython3",
   "version": "3.12.7"
  },
  "vscode": {
   "interpreter": {
    "hash": "31f2aee4e71d21fbe5cf8b01ff0e069b9275f58929596ceb00d14d90e3e16cd6"
   }
  }
 },
 "nbformat": 4,
 "nbformat_minor": 4
}
