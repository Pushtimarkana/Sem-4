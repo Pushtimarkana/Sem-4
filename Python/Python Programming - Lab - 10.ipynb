{
 "cells": [
  {
   "cell_type": "markdown",
   "metadata": {},
   "source": [
    "<a href='https://www.darshan.ac.in/'> <img src='https://www.darshan.ac.in/Content/media/DU_Logo.svg' width=\"250\" height=\"300\"/></a>\n",
    "<pre>\n",
    "<center><b><h1>Python Programming - 2301CS404</b></center>\n",
    "<center><b><h1>Lab - 10</b></center>\n",
    "    <center>Markana Pushti || 23010101160 </center>\n",
    "<pre>"
   ]
  },
  {
   "cell_type": "markdown",
   "metadata": {},
   "source": [
    "# Exception Handling"
   ]
  },
  {
   "cell_type": "markdown",
   "metadata": {},
   "source": [
    "### 01) WAP to handle following exceptions:\n",
    "1. ZeroDivisionError\n",
    "2. ValueError\n",
    "3. TypeError\n",
    "#### Note: handle them using separate except blocks and also using single except block too."
   ]
  },
  {
   "cell_type": "code",
   "execution_count": 22,
   "metadata": {},
   "outputs": [
    {
     "name": "stdin",
     "output_type": "stream",
     "text": [
      "Enter Number: 1\n",
      "Enter Number 2: 0\n",
      "Enter Name khh\n"
     ]
    },
    {
     "name": "stdout",
     "output_type": "stream",
     "text": [
      "division by zero\n"
     ]
    }
   ],
   "source": [
    "try:\n",
    "    n1=int(input(\"Enter Number:\"))\n",
    "    n11=int(input(\"Enter Number 2:\"))\n",
    "    n111=input(\"Enter Name\")\n",
    "    print(n1/n11)\n",
    "    print(n1+n111)\n",
    "except (ZeroDivisionError,ValueError,TypeError) as e:\n",
    "    print(e)\n",
    "    \n",
    "# except ZeroDivisionError:\n",
    "#     print(\"Division by Zero\")\n",
    "\n",
    "# except ValueError:\n",
    "#     print(\"Value is String,Excepted is int\")\n",
    "\n",
    "# except TypeError:\n",
    "#     print(\"Type Errror\")\n",
    "\n",
    "# except:\n",
    "#     print(\"Some Other Error\")"
   ]
  },
  {
   "cell_type": "markdown",
   "metadata": {},
   "source": [
    "### 02)  WAP to handle following exceptions:\n",
    "1. IndexError\n",
    "2. KeyError"
   ]
  },
  {
   "cell_type": "code",
   "execution_count": 20,
   "metadata": {},
   "outputs": [
    {
     "name": "stdin",
     "output_type": "stream",
     "text": [
      "Enter Number 3\n",
      "Enter Number 10\n",
      "Enter Number 20\n",
      "Enter Number 30\n",
      "Enter Key: 6\n"
     ]
    },
    {
     "name": "stdout",
     "output_type": "stream",
     "text": [
      "Invalid Index\n"
     ]
    }
   ],
   "source": [
    "n2=int(input(\"Enter Number\"))\n",
    "li2=[];\n",
    "d2={1:'a',2:'b',3:'c'}\n",
    "for i in range(n2):\n",
    "    li2.append(int(input(\"Enter Number\")))\n",
    "\n",
    "index=n2+5\n",
    "key=int(input(\"Enter Key:\"))\n",
    "try:\n",
    "    print(li2[index])\n",
    "    print(d1(key))\n",
    "except IndexError:\n",
    "    print(\"Invalid Index\")\n",
    "except KeyError:\n",
    "    print(\"Key Error\")"
   ]
  },
  {
   "cell_type": "markdown",
   "metadata": {},
   "source": [
    "### 03) WAP to handle following exceptions:\n",
    "1. FileNotFoundError\n",
    "2. ModuleNotFoundError"
   ]
  },
  {
   "cell_type": "code",
   "execution_count": 24,
   "metadata": {},
   "outputs": [
    {
     "name": "stdout",
     "output_type": "stream",
     "text": [
      "File not Found\n"
     ]
    }
   ],
   "source": [
    "try:\n",
    "    fp=open(\"abc.text\",'r')\n",
    "    print(fp.read())\n",
    "    fp.close()\n",
    "except FileNotFoundError:\n",
    "    print(\"File not Found\")\n",
    "\n"
   ]
  },
  {
   "cell_type": "code",
   "execution_count": 28,
   "metadata": {},
   "outputs": [
    {
     "name": "stdout",
     "output_type": "stream",
     "text": [
      "Module is Not Found\n"
     ]
    }
   ],
   "source": [
    "try:\n",
    "    import darshan\n",
    "    print(\"Module import Suseecfully:\")\n",
    "except ModuleNotFoundError:\n",
    "    print(\"Module is Not Found\")"
   ]
  },
  {
   "cell_type": "markdown",
   "metadata": {},
   "source": [
    "### 04) WAP that catches all type of exceptions in a single except block."
   ]
  },
  {
   "cell_type": "code",
   "execution_count": null,
   "metadata": {},
   "outputs": [],
   "source": [
    "try:\n",
    "    n1=int(input(\"Enter Number:\"))\n",
    "    n11=int(input(\"Enter Number 2:\"))\n",
    "    n111=input(\"Enter Name\")\n",
    "    print(n1/n11)\n",
    "    print(n1+n111)\n",
    "except (ZeroDivisionError,ValueError,TypeError) as e:\n",
    "    print(e)"
   ]
  },
  {
   "cell_type": "markdown",
   "metadata": {},
   "source": [
    "### 05) WAP to demonstrate else  and finally block."
   ]
  },
  {
   "cell_type": "code",
   "execution_count": 30,
   "metadata": {},
   "outputs": [
    {
     "name": "stdin",
     "output_type": "stream",
     "text": [
      "Enter Number: 1\n",
      "Enter Number 2: 0\n",
      "Enter Name hhjh\n"
     ]
    },
    {
     "name": "stdout",
     "output_type": "stream",
     "text": [
      "division by zero\n",
      "Finally block is Ecicuted:\n"
     ]
    }
   ],
   "source": [
    "try:\n",
    "    n1=int(input(\"Enter Number:\"))\n",
    "    n11=int(input(\"Enter Number 2:\"))\n",
    "    n111=input(\"Enter Name\")\n",
    "    print(n1/n11)\n",
    "    print(n1+n111)\n",
    "except Exception as e:\n",
    "    print(e)\n",
    "\n",
    "else:\n",
    "    print(\"Else Block is Excicuted\")\n",
    "\n",
    "finally:\n",
    "    print(\"Finally block is Ecicuted:\")"
   ]
  },
  {
   "cell_type": "markdown",
   "metadata": {},
   "source": [
    "### 06) Create a short program that prompts the user for a list of grades separated by commas. \n",
    "### Split the string into individual grades and use a list comprehension to convert each string to an integer. \n",
    "### You should use a try statement to inform the user when the values they entered cannot be converted."
   ]
  },
  {
   "cell_type": "code",
   "execution_count": 34,
   "metadata": {},
   "outputs": [
    {
     "name": "stdin",
     "output_type": "stream",
     "text": [
      "Enter Grade separated by Commas 10,20,m\n"
     ]
    },
    {
     "name": "stdout",
     "output_type": "stream",
     "text": [
      "invalid literal for int() with base 10: 'm'\n"
     ]
    }
   ],
   "source": [
    "str6=input(\"Enter Grade separated by Commas\")\n",
    "li6=str6.split(\",\")\n",
    "try:\n",
    "    li6=[int(i) for i in li6]\n",
    "except Exception as e:\n",
    "    print(e)\n",
    "\n",
    "else:\n",
    "    print(\"Sum of list is:\",sum(li6))"
   ]
  },
  {
   "cell_type": "markdown",
   "metadata": {},
   "source": [
    "### 07) WAP to create an udf divide(a,b) that handles ZeroDivisionError."
   ]
  },
  {
   "cell_type": "code",
   "execution_count": 42,
   "metadata": {},
   "outputs": [
    {
     "name": "stdout",
     "output_type": "stream",
     "text": [
      "division by zero\n",
      "Zero Division Error:\n"
     ]
    }
   ],
   "source": [
    "def ZeroDivisionError(a,b):\n",
    "    try:\n",
    "        print(a/b)\n",
    "    except Exception as e :\n",
    "        print(e)\n",
    "        print(\"Zero Division Error:\")\n",
    "\n",
    "a=10\n",
    "b=0\n",
    "ZeroDivisionError(a,b)"
   ]
  },
  {
   "cell_type": "markdown",
   "metadata": {},
   "source": [
    "### 08) WAP that gets an age of a person form the user and raises ValueError with error message: \"Enter Valid Age\" :\n",
    "#### If the age is less than 18. \n",
    "#### otherwise print the age."
   ]
  },
  {
   "cell_type": "code",
   "execution_count": 46,
   "metadata": {},
   "outputs": [
    {
     "name": "stdin",
     "output_type": "stream",
     "text": [
      "Enter your Age: 5\n"
     ]
    },
    {
     "name": "stdout",
     "output_type": "stream",
     "text": [
      "Enter Valid Age\n"
     ]
    }
   ],
   "source": [
    "class CheckAge(Exception):\n",
    "    def __init__(self,msg):\n",
    "        self.msg=msg\n",
    "\n",
    "try:\n",
    "    age=int(input(\"Enter your Age:\"))\n",
    "    if(age>18):\n",
    "        print(age)\n",
    "    else:\n",
    "        raise CheckAge(\"Enter Valid Age\")\n",
    "except CheckAge as err:\n",
    "    print(err)"
   ]
  },
  {
   "cell_type": "markdown",
   "metadata": {},
   "source": [
    "### 09) WAP to raise your custom Exception named InvalidUsernameError with the error message : \"Username must be between 5 and 15 characters long\":\n",
    "#### if the given name is having characters less than 5 or greater than 15.\n",
    "#### otherwise print the given username."
   ]
  },
  {
   "cell_type": "code",
   "execution_count": 50,
   "metadata": {},
   "outputs": [
    {
     "name": "stdin",
     "output_type": "stream",
     "text": [
      "Enter your Age: puuhgjbfvgjndxbvkjxndjkgbjdxk\n"
     ]
    },
    {
     "name": "stdout",
     "output_type": "stream",
     "text": [
      "Username must be between 5 and 15 characters long\n"
     ]
    }
   ],
   "source": [
    "class InvalidUsernameError(Exception):\n",
    "    def __init__(self,msg):\n",
    "        self.msg=msg\n",
    "\n",
    "try:\n",
    "    name=input(\"Enter your Age:\")\n",
    "    if(len(name)>5 and len(name)<15):\n",
    "        print(name)\n",
    "    else:\n",
    "        raise InvalidUsernameError(\"Username must be between 5 and 15 characters long\")\n",
    "except InvalidUsernameError as err:\n",
    "    print(err)"
   ]
  },
  {
   "cell_type": "markdown",
   "metadata": {},
   "source": [
    "### 10) WAP to raise your custom Exception named NegativeNumberError with the error message : \"Cannot calculate the square root of a negative number\" :\n",
    "#### if the given number is negative.\n",
    "#### otherwise print the square root of the given number."
   ]
  },
  {
   "cell_type": "code",
   "execution_count": 58,
   "metadata": {},
   "outputs": [
    {
     "name": "stdin",
     "output_type": "stream",
     "text": [
      "Enter your Number: 25\n"
     ]
    },
    {
     "name": "stdout",
     "output_type": "stream",
     "text": [
      "5.0\n"
     ]
    }
   ],
   "source": [
    "import math\n",
    "\n",
    "class NegativeNumberError(Exception):\n",
    "    def __init__(self,msg):\n",
    "        self.msg=msg\n",
    "\n",
    "try:\n",
    "    num=int(input(\"Enter your Number:\"))\n",
    "    if(num>0):\n",
    "        print(math.sqrt(num))\n",
    "    else:\n",
    "        raise NegativeNumberError(\"Cannot calculate the square root of a negative number \")\n",
    "except NegativeNumberError as err:\n",
    "    print(err)"
   ]
  },
  {
   "cell_type": "code",
   "execution_count": null,
   "metadata": {},
   "outputs": [],
   "source": []
  }
 ],
 "metadata": {
  "kernelspec": {
   "display_name": "Python 3 (ipykernel)",
   "language": "python",
   "name": "python3"
  },
  "language_info": {
   "codemirror_mode": {
    "name": "ipython",
    "version": 3
   },
   "file_extension": ".py",
   "mimetype": "text/x-python",
   "name": "python",
   "nbconvert_exporter": "python",
   "pygments_lexer": "ipython3",
   "version": "3.12.7"
  }
 },
 "nbformat": 4,
 "nbformat_minor": 4
}
