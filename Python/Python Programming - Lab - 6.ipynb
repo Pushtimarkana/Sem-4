{
 "cells": [
  {
   "attachments": {},
   "cell_type": "markdown",
   "metadata": {},
   "source": [
    "<a href='https://www.darshan.ac.in/'> <img src='https://www.darshan.ac.in/Content/media/DU_Logo.svg' width=\"250\" height=\"300\"/></a>\n",
    "<pre>\n",
    "<center><b><h1>Python Programming - 2301CS404</b></center>\n",
    "<center><b><h1>Lab - 6</b></center> \n",
    "    <center>Pushti Markana || 23010101160</center>\n",
    "<pre>"
   ]
  },
  {
   "cell_type": "markdown",
   "metadata": {},
   "source": [
    "# Tuple"
   ]
  },
  {
   "cell_type": "markdown",
   "metadata": {},
   "source": [
    "### 01) WAP to find sum of tuple elements."
   ]
  },
  {
   "cell_type": "code",
   "execution_count": 22,
   "metadata": {},
   "outputs": [
    {
     "name": "stdin",
     "output_type": "stream",
     "text": [
      "Enter size of Element: 3\n",
      "Enter Element: 1\n",
      "Enter Element: 2\n",
      "Enter Element: 3\n"
     ]
    },
    {
     "name": "stdout",
     "output_type": "stream",
     "text": [
      "(1, 2, 3)\n",
      "6\n"
     ]
    }
   ],
   "source": [
    "n1 = int(input(\"Enter size of Element:\"))\n",
    "\n",
    "list1=[]\n",
    "for i in range(n1):\n",
    "    list1.append(int(input(\"Enter Element:\")))\n",
    "\n",
    "t1=tuple(list1)\n",
    "print(t1)\n",
    "sum=0\n",
    "# sum2 = sum(list1)\n",
    "\n",
    "for i in t1:\n",
    "    sum = sum+ i\n",
    "\n",
    "print(sum)"
   ]
  },
  {
   "cell_type": "markdown",
   "metadata": {},
   "source": [
    "### 02) WAP to find Maximum and Minimum K elements in a given tuple."
   ]
  },
  {
   "cell_type": "code",
   "execution_count": 64,
   "metadata": {},
   "outputs": [
    {
     "name": "stdin",
     "output_type": "stream",
     "text": [
      "Enter size of Element: 10\n",
      "Enter Element: 9\n",
      "Enter Element: 6\n",
      "Enter Element: 3\n",
      "Enter Element: 8\n",
      "Enter Element: 5\n",
      "Enter Element: 2\n",
      "Enter Element: 7\n",
      "Enter Element: 4\n",
      "Enter Element: 1\n",
      "Enter Element: 0\n",
      "Enter k elements 3\n"
     ]
    },
    {
     "name": "stdout",
     "output_type": "stream",
     "text": [
      "[0, 1, 2, 3, 4, 5, 6, 7, 8, 9]\n",
      "Minimum element: [0, 1, 2]\n",
      "Maximum Element: [9, 8, 7]\n"
     ]
    }
   ],
   "source": [
    "# t2 = scan_tuple()\n",
    "n2 = int(input(\"Enter size of Element:\"))\n",
    "\n",
    "set2= set()\n",
    "for i in range(n2):\n",
    "    set2.add(int(input(\"Enter Element:\")))\n",
    "\n",
    "t1=tuple(set2)\n",
    "\n",
    "l2=sorted(set(t1))\n",
    "\n",
    "k2 = int(input(\"Enter k elements\"))\n",
    "\n",
    "print(l2)\n",
    "list_min=l2[0:k2]\n",
    "list_max=l2[n2:n2-k2-1:-1]\n",
    "\n",
    "print(\"Minimum element:\",list_min)\n",
    "print(\"Maximum Element:\",list_max)\n",
    "\n"
   ]
  },
  {
   "cell_type": "markdown",
   "metadata": {},
   "source": [
    "### 03) WAP to find tuples which have all elements divisible by K from a list of tuples."
   ]
  },
  {
   "cell_type": "code",
   "execution_count": 78,
   "metadata": {},
   "outputs": [
    {
     "name": "stdin",
     "output_type": "stream",
     "text": [
      "Enter size of Element: 5\n",
      "Enter Element: 1\n",
      "Enter Element: 2\n",
      "Enter Element: 3\n",
      "Enter Element: 4\n",
      "Enter Element: 5\n"
     ]
    },
    {
     "name": "stdout",
     "output_type": "stream",
     "text": [
      "[(1, 2, 3, 4, 5)]\n"
     ]
    },
    {
     "name": "stdin",
     "output_type": "stream",
     "text": [
      "Enter k elements 3\n"
     ]
    },
    {
     "name": "stdout",
     "output_type": "stream",
     "text": [
      "(3,)\n"
     ]
    }
   ],
   "source": [
    "n3 = int(input(\"Enter size of Element:\"))\n",
    "\n",
    "list3=[]\n",
    "li3=[]\n",
    "for i in range(n3):\n",
    "    list3.append(int(input(\"Enter Element:\")))\n",
    "\n",
    "t3=tuple(list3)\n",
    "li3.append(t3)\n",
    "print(li3)\n",
    "\n",
    "k3=int(input(\"Enter k elements\"))\n",
    "l3=[]\n",
    "\n",
    "# for i in li3:\n",
    "#     if all(x%k3==0 for x in i):\n",
    "#         l3.append(x)\n",
    "\n",
    "for i in li3:\n",
    "    for x in i:\n",
    "        if(x%k3==0):\n",
    "            l3.append(x)\n",
    "        else:\n",
    "            pass\n",
    "\n",
    "\n",
    "tuple3= tuple(l3)\n",
    "print(tuple3)"
   ]
  },
  {
   "cell_type": "markdown",
   "metadata": {},
   "source": [
    "### 04) WAP to create a list of tuples from given list having number and its cube in each tuple."
   ]
  },
  {
   "cell_type": "code",
   "execution_count": 84,
   "metadata": {},
   "outputs": [
    {
     "name": "stdin",
     "output_type": "stream",
     "text": [
      "Enter size of list: 5\n",
      "Enter element: 1\n",
      "Enter element: 2\n",
      "Enter element: 3\n",
      "Enter element: 4\n",
      "Enter element: 5\n"
     ]
    },
    {
     "name": "stdout",
     "output_type": "stream",
     "text": [
      "[(1, 1), (2, 8), (3, 27), (4, 64), (5, 125)]\n"
     ]
    }
   ],
   "source": [
    "n4= int(int(input(\"Enter size of list:\")))\n",
    "list4=[]\n",
    "\n",
    "for i in range(n4):\n",
    "    list4.append(int(input(\"Enter element:\")))\n",
    "\n",
    "l4=[]\n",
    "\n",
    "for i in list4:\n",
    "    li4=[]\n",
    "    li4.append(i)\n",
    "    li4.append(i**3)\n",
    "    l4.append(tuple(li4))\n",
    "\n",
    "print(l4)"
   ]
  },
  {
   "cell_type": "markdown",
   "metadata": {},
   "source": [
    "### 05) WAP to find tuples with all positive elements from the given list of tuples."
   ]
  },
  {
   "cell_type": "code",
   "execution_count": 9,
   "metadata": {},
   "outputs": [
    {
     "name": "stdin",
     "output_type": "stream",
     "text": [
      "Enter size of list: 5\n",
      "Enter size of tuple: 2\n",
      "Enter element: -1\n",
      "Enter element: 3\n",
      "Enter size of tuple: 2\n",
      "Enter element: 3\n",
      "Enter element: 3\n",
      "Enter size of tuple: 1\n",
      "Enter element: 2\n",
      "Enter size of tuple: 2\n",
      "Enter element: -3\n",
      "Enter element: -3\n",
      "Enter size of tuple: 3\n",
      "Enter element: 1\n",
      "Enter element: 2\n",
      "Enter element: 3\n"
     ]
    },
    {
     "name": "stdout",
     "output_type": "stream",
     "text": [
      "((3, 3), (2,), (1, 2, 3))\n"
     ]
    }
   ],
   "source": [
    "n5= int(int(input(\"Enter size of list:\")))\n",
    "list5=[]\n",
    "\n",
    "for i in range(n5):\n",
    "    no5=int(input(\"Enter size of tuple:\"))\n",
    "    li5=[]\n",
    "    for i in range(no5):\n",
    "        li5.append(int(input(\"Enter element:\")))\n",
    "                   \n",
    "    list5.append(tuple(li5))\n",
    "\n",
    "t5 = tuple(i for i in list5 if all(x5>0 for x5 in i))\n",
    "\n",
    "print(t5)"
   ]
  },
  {
   "cell_type": "markdown",
   "metadata": {},
   "source": [
    "### 06) WAP to add tuple to list and vice – versa."
   ]
  },
  {
   "cell_type": "code",
   "execution_count": 9,
   "metadata": {},
   "outputs": [
    {
     "name": "stdin",
     "output_type": "stream",
     "text": [
      "Enter size of tuple: 6\n",
      "Enter element: 1\n",
      "Enter element: 8\n",
      "Enter element: 9\n",
      "Enter element: 6\n",
      "Enter element: 3\n",
      "Enter element: 2\n"
     ]
    },
    {
     "name": "stdout",
     "output_type": "stream",
     "text": [
      "add tuple in list: [(1, 2), (1, 8, 9, 6, 3, 2)]\n",
      "Add list in tuple: (1, 2, 3, [1, 8, 9, 6, 3, 2])\n"
     ]
    }
   ],
   "source": [
    "# n6= int(int(input(\"Enter size of tuple:\")))\n",
    "list6=[(1,2)]\n",
    "tuple6=(1,2,3)\n",
    "\n",
    "n6 = int(input(\"Enter size of tuple and list:\"))\n",
    "li6=[]\n",
    "l6=list(tuple6)\n",
    "for i in range(n6):\n",
    "    li6.append(int(input(\"Enter element:\")))\n",
    "\n",
    "list6.append(tuple(li6))\n",
    "l6.append(li6)\n",
    "print(\"add tuple in list:\",list6)\n",
    "print(\"Add list in tuple:\",tuple(l6))\n"
   ]
  },
  {
   "cell_type": "markdown",
   "metadata": {},
   "source": [
    "### 07) WAP to remove tuples of length K."
   ]
  },
  {
   "cell_type": "code",
   "execution_count": 15,
   "metadata": {},
   "outputs": [
    {
     "name": "stdin",
     "output_type": "stream",
     "text": [
      "Enter size of list: 6\n",
      "Enter size of tuple: 1\n",
      "Enter element: 20\n",
      "Enter size of tuple: 2\n",
      "Enter element: 20\n",
      "Enter element: 30\n",
      "Enter size of tuple: 4\n",
      "Enter element: 1\n",
      "Enter element: 2\n",
      "Enter element: 3\n",
      "Enter element: 4\n",
      "Enter size of tuple: 5\n",
      "Enter element: 10\n",
      "Enter element: 2\n",
      "Enter element: 3\n",
      "Enter element: 5\n",
      "Enter element: 6\n",
      "Enter size of tuple: 2\n",
      "Enter element: 1\n",
      "Enter element: 2\n",
      "Enter size of tuple: 3\n",
      "Enter element: 1\n",
      "Enter element: 2\n",
      "Enter element: 3\n",
      "Enter length: 2\n"
     ]
    },
    {
     "name": "stdout",
     "output_type": "stream",
     "text": [
      "[(20,), (1, 2, 3, 4), (10, 2, 3, 5, 6), (1, 2, 3)]\n"
     ]
    }
   ],
   "source": [
    "n7= int(int(input(\"Enter size of list:\")))\n",
    "list7=[]\n",
    "\n",
    "for i in range(n7):\n",
    "    no7=int(input(\"Enter size of tuple:\"))\n",
    "    li7=[]\n",
    "    for i in range(no7):\n",
    "        li7.append(int(input(\"Enter element:\")))\n",
    "                   \n",
    "    list7.append(tuple(li7))\n",
    "\n",
    "k7= int(input(\"Enter length:\"))\n",
    "\n",
    "print([i for i in list7 if len(i) !=k7])"
   ]
  },
  {
   "cell_type": "markdown",
   "metadata": {},
   "source": [
    "### 08) WAP to remove duplicates from tuple."
   ]
  },
  {
   "cell_type": "code",
   "execution_count": 1,
   "metadata": {},
   "outputs": [
    {
     "name": "stdin",
     "output_type": "stream",
     "text": [
      "Enter size of list: 10\n",
      "Enter element: 1\n",
      "Enter element: 2\n",
      "Enter element: 3\n",
      "Enter element: 5\n",
      "Enter element: 5\n",
      "Enter element: 3\n",
      "Enter element: 2\n",
      "Enter element: 3\n",
      "Enter element: 2\n",
      "Enter element: 1\n"
     ]
    },
    {
     "name": "stdout",
     "output_type": "stream",
     "text": [
      "(1, 2, 3, 5)\n"
     ]
    }
   ],
   "source": [
    "n8= int(int(input(\"Enter size of list:\")))\n",
    "list8=[]\n",
    "\n",
    "for i in range(n8):\n",
    "    list8.append(int(input(\"Enter element:\")))\n",
    "\n",
    "print(tuple(set(list8)))"
   ]
  },
  {
   "cell_type": "markdown",
   "metadata": {},
   "source": [
    "### 09) WAP to multiply adjacent elements of a tuple and print that resultant tuple."
   ]
  },
  {
   "cell_type": "code",
   "execution_count": 23,
   "metadata": {},
   "outputs": [
    {
     "name": "stdin",
     "output_type": "stream",
     "text": [
      "Enter size of tuple 5\n",
      "Enter element: 10\n",
      "Enter element: 20\n",
      "Enter element: 30\n",
      "Enter element: 40\n",
      "Enter element: 50\n"
     ]
    },
    {
     "name": "stdout",
     "output_type": "stream",
     "text": [
      "(200, 600, 1200, 2000)\n"
     ]
    }
   ],
   "source": [
    "n9=int(input(\"Enter size of tuple\"))\n",
    "list9=[]\n",
    "\n",
    "for i in range(n9):\n",
    "    list9.append(int(input(\"Enter element:\")))\n",
    "\n",
    "tuple9=tuple(list9)\n",
    "\n",
    "li9=[]\n",
    "for i in range(len(tuple9)-1):\n",
    "    li9.append(tuple9[i]*tuple9[(i+1)])\n",
    "\n",
    "print(tuple(li9))"
   ]
  },
  {
   "cell_type": "markdown",
   "metadata": {},
   "source": [
    "### 10) WAP to test if the given tuple is distinct or not."
   ]
  },
  {
   "cell_type": "code",
   "execution_count": 37,
   "metadata": {},
   "outputs": [
    {
     "name": "stdout",
     "output_type": "stream",
     "text": [
      "given tuple is  not Distinct\n"
     ]
    }
   ],
   "source": [
    "\n",
    "\n",
    "# e.g. (10,20,30) is Distinct\n",
    "# e.g. (10,20,20,30) is not Distinct\n",
    "\n",
    "\n",
    "tuple10=(10,20,30,10)\n",
    "\n",
    "distinct=\"\"\n",
    "if(len(tuple10)== len(set(tuple10))):\n",
    "    distinct=\"Distinct\"\n",
    "else:\n",
    "    distinct=\" not Distinct\"\n",
    "        \n",
    "\n",
    "print(\"given tuple is\",distinct)\n"
   ]
  },
  {
   "cell_type": "code",
   "execution_count": null,
   "metadata": {},
   "outputs": [],
   "source": []
  }
 ],
 "metadata": {
  "kernelspec": {
   "display_name": "Python 3 (ipykernel)",
   "language": "python",
   "name": "python3"
  },
  "language_info": {
   "codemirror_mode": {
    "name": "ipython",
    "version": 3
   },
   "file_extension": ".py",
   "mimetype": "text/x-python",
   "name": "python",
   "nbconvert_exporter": "python",
   "pygments_lexer": "ipython3",
   "version": "3.12.7"
  }
 },
 "nbformat": 4,
 "nbformat_minor": 4
}
