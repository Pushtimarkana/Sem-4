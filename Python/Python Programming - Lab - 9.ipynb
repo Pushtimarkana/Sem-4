{
 "cells": [
  {
   "cell_type": "markdown",
   "metadata": {},
   "source": [
    "<a href='https://www.darshan.ac.in/'> <img src='https://www.darshan.ac.in/Content/media/DU_Logo.svg' width=\"250\" height=\"300\"/></a>\n",
    "<pre>\n",
    "<center><b><h1>Python Programming - 2301CS404</b></center>\n",
    "<center><b><h1>Lab - 9</b></center>    \n",
    "<pre>"
   ]
  },
  {
   "cell_type": "markdown",
   "metadata": {},
   "source": [
    "# File I/O"
   ]
  },
  {
   "cell_type": "markdown",
   "metadata": {},
   "source": [
    "### 01) WAP to read and display the contents of a text file. (also try to open the file in some other directory) \n",
    "#### - in the form of a string\n",
    "#### - line by line\n",
    "#### - in the form of a list"
   ]
  },
  {
   "cell_type": "code",
   "execution_count": 19,
   "metadata": {},
   "outputs": [
    {
     "name": "stdout",
     "output_type": "stream",
     "text": [
      "['Hii How are you ?', 'From Python']\n"
     ]
    }
   ],
   "source": [
    "fp=open('lab9.txt','r')\n",
    "\n",
    "# data1=fp.read()\n",
    "# print('read() func',data1)\n",
    "\n",
    "# data12=fp.readline()\n",
    "# print('readline() func',data12)\n",
    "# data13=fp.readline()\n",
    "# print('readline() func',data13)\n",
    "\n",
    "li1=fp.readlines()\n",
    "li1=[i.strip() for i in li1]\n",
    "print(li1)\n",
    "\n"
   ]
  },
  {
   "cell_type": "markdown",
   "metadata": {},
   "source": [
    "### 02) WAP to create file named \"new.txt\" only if it doesn't exist."
   ]
  },
  {
   "cell_type": "code",
   "execution_count": 23,
   "metadata": {},
   "outputs": [],
   "source": [
    "fp2=open('new.txt','w')\n",
    "fp2.write(\"hello from new\")\n",
    "fp.close()"
   ]
  },
  {
   "cell_type": "markdown",
   "metadata": {},
   "source": [
    "### 03) WAP to read first 5 lines from the text file."
   ]
  },
  {
   "cell_type": "code",
   "execution_count": 27,
   "metadata": {},
   "outputs": [
    {
     "name": "stdout",
     "output_type": "stream",
     "text": [
      "hello from new\n",
      "\n",
      "hello from python\n",
      "\n",
      "hello from flutter\n",
      "\n",
      "hello from Demo3\n",
      "\n",
      "hello from demo4\n",
      "\n"
     ]
    }
   ],
   "source": [
    "fp3=open('new.txt','r')\n",
    "for i in range(5):\n",
    "    print(fp3.readline())"
   ]
  },
  {
   "cell_type": "markdown",
   "metadata": {},
   "source": [
    "### 04) WAP to find the longest word(s) in a file"
   ]
  },
  {
   "cell_type": "code",
   "execution_count": 35,
   "metadata": {},
   "outputs": [
    {
     "name": "stdout",
     "output_type": "stream",
     "text": [
      "['hello', 'from', 'new', 'hello', 'from', 'python', 'hello', 'from', 'flutter', 'hello', 'from', 'Demo3', 'hello', 'from', 'demo4', 'hello', 'from', 'demo2']\n",
      "flutter\n"
     ]
    }
   ],
   "source": [
    "fp4=open('new.txt','r')\n",
    "wl4 = fp4.read().split()\n",
    "\n",
    "print(wl4)\n",
    "max_w=wl4[0]\n",
    "for i in wl4:\n",
    "    if len(i)>len(max_w):\n",
    "        max_w=i\n",
    "\n",
    "print(max_w)\n",
    "fp4.close()"
   ]
  },
  {
   "cell_type": "markdown",
   "metadata": {},
   "source": [
    "### 05) WAP to count the no. of lines, words and characters in a given text file."
   ]
  },
  {
   "cell_type": "code",
   "execution_count": 10,
   "metadata": {},
   "outputs": [
    {
     "name": "stdout",
     "output_type": "stream",
     "text": [
      "Words: 18\n",
      "charcter: 85\n"
     ]
    }
   ],
   "source": [
    "fp5=open('new.txt','r')\n",
    "# print(\"Lines:\",len(fp5.readlines()))\n",
    "\n",
    "# print(\"Characters:\",len(fp5.read().strip()))\n",
    "\n",
    "word=fp5.read().split()\n",
    "print(\"Words:\",len(word))\n",
    "\n",
    "s=\"\".join(word)\n",
    "print(\"charcter:\",len(s))"
   ]
  },
  {
   "cell_type": "markdown",
   "metadata": {},
   "source": [
    "### 06) WAP to copy the content of a file to the another file."
   ]
  },
  {
   "cell_type": "code",
   "execution_count": 59,
   "metadata": {},
   "outputs": [],
   "source": [
    "fp6=open('new.txt','r')\n",
    "li6= fp6.readlines()\n",
    "\n",
    "fp6=open('lab9.txt','a')\n",
    "fp6.writelines(li6)\n",
    "fp6.close()"
   ]
  },
  {
   "cell_type": "markdown",
   "metadata": {},
   "source": [
    "### 07) WAP to find the size of the text file. "
   ]
  },
  {
   "cell_type": "code",
   "execution_count": 61,
   "metadata": {},
   "outputs": [
    {
     "name": "stdout",
     "output_type": "stream",
     "text": [
      "charcter: 170\n"
     ]
    }
   ],
   "source": [
    "fp=open('lab9.txt','r')\n",
    "word=fp.read().split()\n",
    "s=\"\".join(word)\n",
    "print(\"charcter:\",len(s))"
   ]
  },
  {
   "cell_type": "markdown",
   "metadata": {},
   "source": [
    "### 08) WAP to create an UDF named frequency to count occurances of the specific word in a given text file."
   ]
  },
  {
   "cell_type": "code",
   "execution_count": 65,
   "metadata": {},
   "outputs": [
    {
     "name": "stdin",
     "output_type": "stream",
     "text": [
      "Enter word for occurances hello\n"
     ]
    },
    {
     "name": "stdout",
     "output_type": "stream",
     "text": [
      "12\n"
     ]
    }
   ],
   "source": [
    "word8=input(\"Enter word for occurances\")\n",
    "\n",
    "\n",
    "def Occurances(word):\n",
    "    fp=open('lab9.txt','r')\n",
    "    li=fp.read().split()\n",
    "    count=0\n",
    "    for i in li:\n",
    "        if (word==i):\n",
    "            count+=1;\n",
    "    return count\n",
    "    \n",
    "print(Occurances(word8))"
   ]
  },
  {
   "cell_type": "markdown",
   "metadata": {},
   "source": [
    "### 09) WAP to get the score of five subjects from the user, store them in a file. Fetch those marks and find the highest score."
   ]
  },
  {
   "cell_type": "code",
   "execution_count": 85,
   "metadata": {},
   "outputs": [
    {
     "name": "stdin",
     "output_type": "stream",
     "text": [
      "Enter Number for subject: 3\n",
      "Enter Marks 10\n",
      "Enter Marks 20\n",
      "Enter Marks 30\n"
     ]
    },
    {
     "name": "stdout",
     "output_type": "stream",
     "text": [
      "30\n"
     ]
    }
   ],
   "source": [
    "n9=int(input(\"Enter Number for subject:\"))\n",
    "li9=[]\n",
    "for i in range(n9):\n",
    "    li9.append(input(\"Enter Marks\")+\"\\n\")\n",
    "\n",
    "fp=open('score.txt','w')\n",
    "fp.writelines(li9)\n",
    "fp.close()\n",
    "\n",
    "fp=open('score.txt','r')\n",
    "li9=[i.strip() for i in fp]\n",
    "print(max(li9))"
   ]
  },
  {
   "cell_type": "markdown",
   "metadata": {},
   "source": [
    "### 10) WAP to write first 100 prime numbers to a file named primenumbers.txt \n",
    "(Note: each number should be in new line)"
   ]
  },
  {
   "cell_type": "code",
   "execution_count": 96,
   "metadata": {},
   "outputs": [
    {
     "name": "stdout",
     "output_type": "stream",
     "text": [
      "['2\\n', '3\\n', '5\\n', '7\\n', '11\\n', '13\\n', '17\\n', '19\\n', '23\\n', '29\\n', '31\\n', '37\\n', '41\\n', '43\\n', '47\\n', '53\\n', '59\\n', '61\\n', '67\\n', '71\\n', '73\\n', '79\\n', '83\\n', '89\\n', '97\\n', '101\\n', '103\\n', '107\\n', '109\\n', '113\\n', '127\\n', '131\\n', '137\\n', '139\\n', '149\\n', '151\\n', '157\\n', '163\\n', '167\\n', '173\\n', '179\\n', '181\\n', '191\\n', '193\\n', '197\\n', '199\\n', '211\\n', '223\\n', '227\\n', '229\\n', '233\\n', '239\\n', '241\\n', '251\\n', '257\\n', '263\\n', '269\\n', '271\\n', '277\\n', '281\\n', '283\\n', '293\\n', '307\\n', '311\\n', '313\\n', '317\\n', '331\\n', '337\\n', '347\\n', '349\\n', '353\\n', '359\\n', '367\\n', '373\\n', '379\\n', '383\\n', '389\\n', '397\\n', '401\\n', '409\\n', '419\\n', '421\\n', '431\\n', '433\\n', '439\\n', '443\\n', '449\\n', '457\\n', '461\\n', '463\\n', '467\\n', '479\\n', '487\\n', '491\\n', '499\\n', '503\\n', '509\\n', '521\\n', '523\\n', '541\\n']\n"
     ]
    }
   ],
   "source": [
    "from sympy import *\n",
    "\n",
    "li=[]\n",
    "i=2\n",
    "while(len(li)!=100):\n",
    "    if(isprime(i)):\n",
    "        li.append(str(i)+\"\\n\")\n",
    "    i=i+1   \n",
    "\n",
    "print(li)\n",
    "fp=open('score.txt','a')\n",
    "fp.writelines(li)\n",
    "fp.close()"
   ]
  },
  {
   "cell_type": "markdown",
   "metadata": {},
   "source": [
    "### 11) WAP to merge two files and write it in a new file."
   ]
  },
  {
   "cell_type": "code",
   "execution_count": 6,
   "metadata": {},
   "outputs": [],
   "source": [
    "fp=open(\"lab9.txt\",'r')\n",
    "li11=fp.readlines()\n",
    "fp.close()\n",
    "fp=open(\"new.txt\",'r')\n",
    "list11=fp.readlines()\n",
    "fp.close()\n",
    "\n",
    "fp=open(\"score.txt\",'a')\n",
    "fp.writelines(li11)\n",
    "fp.writelines(list11)\n",
    "\n",
    "fp.close()"
   ]
  },
  {
   "cell_type": "markdown",
   "metadata": {},
   "source": [
    "### 12) WAP to replace word1 by word2 of a text file. Write the updated data to new file."
   ]
  },
  {
   "cell_type": "code",
   "execution_count": 24,
   "metadata": {},
   "outputs": [],
   "source": [
    "old_word=\"hello\"\n",
    "new_word=\"HELLO\"\n",
    "\n",
    "fp=open(\"new.txt\",'r')\n",
    "data=fp.read()\n",
    "data = data.replace(old_word,new_word)\n",
    "\n",
    "fp=open(\"new2.txt\",\"w\")\n",
    "fp.write(data)\n",
    "fp.close()\n"
   ]
  },
  {
   "cell_type": "markdown",
   "metadata": {},
   "source": [
    "### 13) Demonstrate tell() and seek() for all the cases(seek from beginning-end-current position) taking a suitable example of your choice."
   ]
  },
  {
   "cell_type": "code",
   "execution_count": 54,
   "metadata": {},
   "outputs": [
    {
     "name": "stdout",
     "output_type": "stream",
     "text": [
      "data:  from n\n",
      "data2:  new\n",
      "HELLO\n"
     ]
    }
   ],
   "source": [
    "fp=open(\"new2.txt\",\"r\")\n",
    "\n",
    "# tell\n",
    "# fp.read(2)\n",
    "# print(\"tell:\",fp.tell())\n",
    "# fp.read(10)\n",
    "# print(\"tell:\",fp.tell())\n",
    "\n",
    "#  seek \n",
    "fp.seek(5)\n",
    "data= fp.read(7)\n",
    "print(\"data:\",data)\n",
    "\n",
    "fp.seek(10,0)\n",
    "data2=fp.read(10)\n",
    "print(\"data2:\",data2)\n"
   ]
  },
  {
   "cell_type": "code",
   "execution_count": 64,
   "metadata": {},
   "outputs": [
    {
     "data": {
      "text/plain": [
       "True"
      ]
     },
     "execution_count": 64,
     "metadata": {},
     "output_type": "execute_result"
    }
   ],
   "source": [
    "fp=open(\"new2.txt\",\"r\")\n",
    "# fp.name\n",
    "# fp.mode\n",
    "fp.close()\n",
    "fp.closed\n"
   ]
  },
  {
   "cell_type": "code",
   "execution_count": null,
   "metadata": {},
   "outputs": [],
   "source": []
  }
 ],
 "metadata": {
  "kernelspec": {
   "display_name": "Python 3 (ipykernel)",
   "language": "python",
   "name": "python3"
  },
  "language_info": {
   "codemirror_mode": {
    "name": "ipython",
    "version": 3
   },
   "file_extension": ".py",
   "mimetype": "text/x-python",
   "name": "python",
   "nbconvert_exporter": "python",
   "pygments_lexer": "ipython3",
   "version": "3.12.7"
  }
 },
 "nbformat": 4,
 "nbformat_minor": 4
}
