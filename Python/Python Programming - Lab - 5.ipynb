{
 "cells": [
  {
   "cell_type": "markdown",
   "metadata": {},
   "source": [
    "\n",
    "<a href='https://www.darshan.ac.in/'> <img src='https://www.darshan.ac.in/Content/media/DU_Logo.svg' width=\"250\" height=\"300\"/></a>\n",
    "<pre>\n",
    "<center><b><h1>Python Programming - 2301CS404</b></center>\n",
    "<center><b><h1>Lab - 5</b></center> \n",
    "    <center>Pushti Markana || 23010101160</center>\n",
    "<pre>"
   ]
  },
  {
   "cell_type": "markdown",
   "metadata": {},
   "source": [
    "# List"
   ]
  },
  {
   "cell_type": "markdown",
   "metadata": {},
   "source": [
    "### 01) WAP to find sum of all the elements in a List."
   ]
  },
  {
   "cell_type": "code",
   "execution_count": 12,
   "metadata": {},
   "outputs": [
    {
     "name": "stdin",
     "output_type": "stream",
     "text": [
      "Enter Size of List: 2\n",
      "Enter Element:  1\n",
      "Enter Element:  2\n"
     ]
    },
    {
     "name": "stdout",
     "output_type": "stream",
     "text": [
      "3\n"
     ]
    }
   ],
   "source": [
    "n1 = int(input(\"Enter Size of List:\"))\n",
    "\n",
    "list1=[]\n",
    "sum1=0\n",
    "for i in range(n1):\n",
    "    a1=int(input(\"Enter Element: \"))\n",
    "    list1.append(a1)\n",
    "    sum1+=list1[i]\n",
    "       \n",
    "\n",
    "print(sum1)"
   ]
  },
  {
   "cell_type": "markdown",
   "metadata": {},
   "source": [
    "### 02) WAP to find largest element in a List."
   ]
  },
  {
   "cell_type": "code",
   "execution_count": 18,
   "metadata": {},
   "outputs": [
    {
     "name": "stdin",
     "output_type": "stream",
     "text": [
      "Enter Size of List: 8\n",
      "Enter Element:  9\n",
      "Enter Element:  2\n",
      "Enter Element:  10\n",
      "Enter Element:  45\n",
      "Enter Element:  8\n",
      "Enter Element:  6\n",
      "Enter Element:  2\n",
      "Enter Element:  1\n"
     ]
    },
    {
     "name": "stdout",
     "output_type": "stream",
     "text": [
      "45\n"
     ]
    }
   ],
   "source": [
    "n2 = int(input(\"Enter Size of List:\"))\n",
    "\n",
    "list2=[]\n",
    "\n",
    "for i in range(n2):\n",
    "    a2=int(input(\"Enter Element: \"))\n",
    "    list2.append(a2)\n",
    "\n",
    "max=list2[0]\n",
    "for i in range(n2):\n",
    "    if(list2[i]>max):\n",
    "        max=list2[i]\n",
    "\n",
    "print(max)"
   ]
  },
  {
   "cell_type": "markdown",
   "metadata": {},
   "source": [
    "### 03) WAP to find the length of a List."
   ]
  },
  {
   "cell_type": "code",
   "execution_count": 26,
   "metadata": {},
   "outputs": [
    {
     "name": "stdin",
     "output_type": "stream",
     "text": [
      "Enter Size of List: 5\n",
      "Enter Element:  1\n",
      "Enter Element:  2\n",
      "Enter Element:  3\n",
      "Enter Element:  4\n",
      "Enter Element:  5\n"
     ]
    },
    {
     "name": "stdout",
     "output_type": "stream",
     "text": [
      "5\n"
     ]
    }
   ],
   "source": [
    "n3=int(input(\"Enter Size of List:\"))\n",
    "\n",
    "list3=[]\n",
    "\n",
    "count=0\n",
    "for i in range(n3):\n",
    "    a3=int(input(\"Enter Element: \"))\n",
    "    list3.append(a3)\n",
    "    count+=1\n",
    "\n",
    "print(count)"
   ]
  },
  {
   "cell_type": "markdown",
   "metadata": {},
   "source": [
    "### 04) WAP to interchange first and last elements in a list."
   ]
  },
  {
   "cell_type": "code",
   "execution_count": 29,
   "metadata": {},
   "outputs": [
    {
     "name": "stdin",
     "output_type": "stream",
     "text": [
      "Enter Size of List: 5\n",
      "Enter Element:  1\n",
      "Enter Element:  2\n",
      "Enter Element:  3\n",
      "Enter Element:  4\n",
      "Enter Element:  5\n"
     ]
    },
    {
     "name": "stdout",
     "output_type": "stream",
     "text": [
      "Before Reverse: [1, 2, 3, 4, 5]\n",
      "After: [5, 2, 3, 4, 1]\n"
     ]
    }
   ],
   "source": [
    "n4=int(input(\"Enter Size of List:\"))\n",
    "\n",
    "list4=[]\n",
    "\n",
    "for i in range(n4):\n",
    "    a4=int(input(\"Enter Element: \"))\n",
    "    list4.append(a4)\n",
    "\n",
    "print(\"Before Reverse:\",list4)\n",
    "f = list4[0]\n",
    "l = list4[n4-1]\n",
    "list4[0]=l\n",
    "list4[n4-1] = f\n",
    "\n",
    "print(\"After:\",list4)"
   ]
  },
  {
   "cell_type": "markdown",
   "metadata": {},
   "source": [
    "### 05) WAP to split the List into two parts and append the first part to the end."
   ]
  },
  {
   "cell_type": "code",
   "execution_count": 37,
   "metadata": {},
   "outputs": [
    {
     "name": "stdin",
     "output_type": "stream",
     "text": [
      "Enter Size of List: 5\n",
      "Enter Element:  1\n",
      "Enter Element:  2\n",
      "Enter Element:  3\n",
      "Enter Element:  4\n",
      "Enter Element:  5\n"
     ]
    },
    {
     "name": "stdout",
     "output_type": "stream",
     "text": [
      "['3', '4', '5', '1', '2']\n"
     ]
    }
   ],
   "source": [
    "n5=int(input(\"Enter Size of List:\"))\n",
    "\n",
    "list5=[]\n",
    "\n",
    "for i in range(n5):\n",
    "    a5=input(\"Enter Element: \")\n",
    "    list5.append(a5)\n",
    "\n",
    "l5=list5[0:n5//2:]\n",
    "li5=list5[n5//2:n5:]\n",
    "\n",
    "# print(l5)\n",
    "# print(li5)\n",
    "li5.extend(l5)\n",
    "print(li5)"
   ]
  },
  {
   "cell_type": "markdown",
   "metadata": {},
   "source": [
    "### 06) WAP to interchange the elements on two positions entered by a user."
   ]
  },
  {
   "cell_type": "code",
   "execution_count": 1,
   "metadata": {},
   "outputs": [
    {
     "name": "stdin",
     "output_type": "stream",
     "text": [
      "Enter Size of list: 5\n",
      "Enter Element:  1\n",
      "Enter Element:  2\n",
      "Enter Element:  3\n",
      "Enter Element:  4\n",
      "Enter Element:  5\n",
      "Enter Index: 1\n",
      "Enter Second Index: 2\n"
     ]
    },
    {
     "name": "stdout",
     "output_type": "stream",
     "text": [
      "Before Swap: ['1', '2', '3', '4', '5']\n",
      "['1', '3', '2', '4', '5']\n"
     ]
    }
   ],
   "source": [
    "n6= int(input(\"Enter Size of list:\"))\n",
    "\n",
    "list6=[]\n",
    "for i in range(n6):\n",
    "    a6=input(\"Enter Element: \")\n",
    "    list6.append(a6)\n",
    "\n",
    "index1= int(input(\"Enter Index:\"))\n",
    "index2 = int(input(\"Enter Second Index:\"))\n",
    "\n",
    "print(\"Before Swap:\",list6)\n",
    "value1=list6[index1]\n",
    "value2 = list6[index2]\n",
    "\n",
    "# list6[index1] = value2\n",
    "# list6[index2] = value1\n",
    "\n",
    "list6[index1],list6[index2]=value2,value1\n",
    "\n",
    "\n",
    "print(list6)"
   ]
  },
  {
   "cell_type": "markdown",
   "metadata": {},
   "source": [
    "### 07) WAP to reverse the list entered by user."
   ]
  },
  {
   "cell_type": "code",
   "execution_count": 45,
   "metadata": {},
   "outputs": [
    {
     "name": "stdin",
     "output_type": "stream",
     "text": [
      "Enter Size of list: 9\n",
      "Enter Element:  a\n",
      "Enter Element:  b\n",
      "Enter Element:  c\n",
      "Enter Element:  d\n",
      "Enter Element:  e\n",
      "Enter Element:  f\n",
      "Enter Element:  g\n",
      "Enter Element:  h\n",
      "Enter Element:  i\n"
     ]
    },
    {
     "data": {
      "text/plain": [
       "['i', 'h', 'g', 'f', 'e', 'd', 'c', 'b', 'a']"
      ]
     },
     "execution_count": 45,
     "metadata": {},
     "output_type": "execute_result"
    }
   ],
   "source": [
    "n7= int(input(\"Enter Size of list:\"))\n",
    "\n",
    "list7=[]\n",
    "for i in range(n7):\n",
    "    a7=input(\"Enter Element: \")\n",
    "    list7.append(a7)\n",
    "\n",
    "list7.reverse()\n",
    "list7"
   ]
  },
  {
   "cell_type": "markdown",
   "metadata": {},
   "source": [
    "### 08) WAP to print even numbers in a list."
   ]
  },
  {
   "cell_type": "code",
   "execution_count": 67,
   "metadata": {},
   "outputs": [
    {
     "name": "stdin",
     "output_type": "stream",
     "text": [
      "Enter Size of list: 5\n",
      "Enter Element:  1\n",
      "Enter Element:  2\n",
      "Enter Element:  3\n",
      "Enter Element:  4\n",
      "Enter Element:  5\n"
     ]
    },
    {
     "name": "stdout",
     "output_type": "stream",
     "text": [
      "2\n",
      "4\n"
     ]
    }
   ],
   "source": [
    "n8= int(input(\"Enter Size of list:\"))\n",
    "\n",
    "list8=[]\n",
    "for i in range(n8):\n",
    "    a8=int(input(\"Enter Element: \"))\n",
    "    list8.append(a8)\n",
    "    # if(list8[i] % 2==0):\n",
    "    #     print(list8[i])\n",
    "\n",
    "list8\n",
    "for i in range(n8):\n",
    "    if(list8[i] % 2==0):\n",
    "        print(list8[i])"
   ]
  },
  {
   "cell_type": "markdown",
   "metadata": {},
   "source": [
    "### 09) WAP to count unique items in a list."
   ]
  },
  {
   "cell_type": "code",
   "execution_count": 75,
   "metadata": {},
   "outputs": [
    {
     "name": "stdin",
     "output_type": "stream",
     "text": [
      "Enter Size of list: 6\n",
      "Enter Element:  p\n",
      "Enter Element:  p\n",
      "Enter Element:  u\n",
      "Enter Element:  s\n",
      "Enter Element:  h\n",
      "Enter Element:  h\n"
     ]
    },
    {
     "name": "stdout",
     "output_type": "stream",
     "text": [
      "4\n"
     ]
    }
   ],
   "source": [
    "n9= int(input(\"Enter Size of list:\"))\n",
    "\n",
    "list9=[]\n",
    "for i in range(n9):\n",
    "    a9=input(\"Enter Element: \")\n",
    "    list9.append(a9)\n",
    "\n",
    "set1 = set()\n",
    "set1.update(list9)\n",
    "count=0\n",
    "for i in set1:\n",
    "    count+=1\n",
    "\n",
    "\n",
    "print(count)\n"
   ]
  },
  {
   "cell_type": "markdown",
   "metadata": {},
   "source": [
    "### 10) WAP to copy a list."
   ]
  },
  {
   "cell_type": "code",
   "execution_count": 71,
   "metadata": {},
   "outputs": [
    {
     "name": "stdin",
     "output_type": "stream",
     "text": [
      "Enter Size of list: 2\n",
      "Enter Element:  1\n",
      "Enter Element:  2\n"
     ]
    },
    {
     "data": {
      "text/plain": [
       "['1', '2']"
      ]
     },
     "execution_count": 71,
     "metadata": {},
     "output_type": "execute_result"
    }
   ],
   "source": [
    "n10= int(input(\"Enter Size of list:\"))\n",
    "\n",
    "list10=[]\n",
    "for i in range(n10):\n",
    "    a10=input(\"Enter Element: \")\n",
    "    list10.append(a10)\n",
    "\n",
    "list10.copy()"
   ]
  },
  {
   "cell_type": "markdown",
   "metadata": {},
   "source": [
    "### 11) WAP to print all odd numbers in a given range."
   ]
  },
  {
   "cell_type": "code",
   "execution_count": 73,
   "metadata": {},
   "outputs": [
    {
     "name": "stdin",
     "output_type": "stream",
     "text": [
      "Enter Size of list: 6\n",
      "Enter Element:  1\n",
      "Enter Element:  2\n",
      "Enter Element:  3\n",
      "Enter Element:  4\n",
      "Enter Element:  5\n",
      "Enter Element:  6\n",
      "Enter range: 3\n"
     ]
    },
    {
     "name": "stdout",
     "output_type": "stream",
     "text": [
      "1\n",
      "3\n"
     ]
    }
   ],
   "source": [
    "n11= int(input(\"Enter Size of list:\"))\n",
    "\n",
    "list11=[]\n",
    "for i in range(n11):\n",
    "    a11=int(input(\"Enter Element: \"))\n",
    "    list11.append(a11)\n",
    "    # if(list8[i] % 2==0):\n",
    "    #     print(list8[i])\n",
    "\n",
    "list11\n",
    "range11= int(input(\"Enter range:\"))\n",
    "for i in range(range11):\n",
    "    if(list8[i] % 2 !=0):\n",
    "        print(list8[i])"
   ]
  },
  {
   "cell_type": "markdown",
   "metadata": {},
   "source": [
    "### 12) WAP to count occurrences of an element in a list."
   ]
  },
  {
   "cell_type": "code",
   "execution_count": 35,
   "metadata": {},
   "outputs": [
    {
     "name": "stdin",
     "output_type": "stream",
     "text": [
      "Enter Size of list: 5\n",
      "Enter Element:  11\n",
      "Enter Element:  11\n",
      "Enter Element:  11\n",
      "Enter Element:  11\n",
      "Enter Element:  2\n",
      "Enter element to count occurrences: 11\n"
     ]
    },
    {
     "name": "stdout",
     "output_type": "stream",
     "text": [
      "The element 11 occurs 4 times in the list.\n",
      "4\n"
     ]
    }
   ],
   "source": [
    "n12 = int(input(\"Enter Size of list:\"))\n",
    "\n",
    "list12 = []\n",
    "for i in range(n12):\n",
    "    list12.append(int(input(\"Enter Element: \")))\n",
    "\n",
    "list12.sort()\n",
    "\n",
    "element = int(input(\"Enter element to count occurrences:\"))\n",
    "\n",
    "d12 = {}\n",
    "\n",
    "# Count occurrences of each element in the list\n",
    "for i in list12:\n",
    "    if i in d12:\n",
    "        d12[i] += 1\n",
    "    else:\n",
    "        d12[i] = 1\n",
    "\n",
    "count = d12.get(element, 0)\n",
    "\n",
    "print(f\"The element {element} occurs {count} times in the list.\")\n",
    "\n",
    "#  count method of list iterable \n",
    "c12 = list12.count(element)\n",
    "\n",
    "print(c12)\n",
    "\n",
    "# for i in d12.keys():\n",
    "#     print('Key:',i)\n",
    "#     print('Value:',d12[i])\n"
   ]
  },
  {
   "cell_type": "markdown",
   "metadata": {},
   "source": [
    "### 13) WAP to find second largest number in a list."
   ]
  },
  {
   "cell_type": "code",
   "execution_count": 80,
   "metadata": {},
   "outputs": [
    {
     "name": "stdin",
     "output_type": "stream",
     "text": [
      "Enter Size of list: 5\n",
      "Enter Element:  12\n",
      "Enter Element:  63\n",
      "Enter Element:  123\n",
      "Enter Element:  56\n",
      "Enter Element:  100\n"
     ]
    },
    {
     "data": {
      "text/plain": [
       "100"
      ]
     },
     "execution_count": 80,
     "metadata": {},
     "output_type": "execute_result"
    }
   ],
   "source": [
    "n13= int(input(\"Enter Size of list:\"))\n",
    "\n",
    "list13=[]\n",
    "for i in range(n13):\n",
    "    a13=int(input(\"Enter Element: \"))\n",
    "    list13.append(a13)\n",
    "\n",
    "list13.sort(reverse=True)\n",
    "list13[1]\n"
   ]
  },
  {
   "cell_type": "markdown",
   "metadata": {},
   "source": [
    "### 14) WAP to extract elements with frequency greater than K."
   ]
  },
  {
   "cell_type": "code",
   "execution_count": 37,
   "metadata": {},
   "outputs": [
    {
     "name": "stdin",
     "output_type": "stream",
     "text": [
      "Enter Size of list: 5\n",
      "Enter Element:  123\n",
      "Enter Element:  4\n",
      "Enter Element:  5\n",
      "Enter Element:  2\n",
      "Enter Element:  3\n",
      "Enter frequency 1\n"
     ]
    }
   ],
   "source": [
    "n14 = int(input(\"Enter Size of list:\"))\n",
    "\n",
    "list14 = []\n",
    "for i in range(n14):\n",
    "    list14.append(int(input(\"Enter Element: \")))\n",
    "\n",
    "list14.sort()\n",
    "k= int(input(\"Enter frequency\"))\n",
    "d14 = {}\n",
    "\n",
    "# Count occurrences of each element in the list\n",
    "for i in list14:\n",
    "    if i in d14:\n",
    "        d14[i] += 1\n",
    "    else:\n",
    "        d14[i] = 1\n",
    "\n",
    "result = [i ]\n"
   ]
  },
  {
   "cell_type": "markdown",
   "metadata": {},
   "source": [
    "### 15) WAP to create a list of squared numbers from 0 to 9 with and without using List Comprehension."
   ]
  },
  {
   "cell_type": "code",
   "execution_count": 7,
   "metadata": {},
   "outputs": [
    {
     "name": "stdout",
     "output_type": "stream",
     "text": [
      "[0, 1, 4, 9, 16, 25, 36, 49, 64, 81]\n",
      "[0, 1, 4, 9, 16, 25, 36, 49, 64, 81]\n"
     ]
    }
   ],
   "source": [
    "# list Comprehension\n",
    "list15 =[ i**2 for i in range(0,10)]\n",
    "\n",
    "li15 =[]\n",
    "for i in range(10):\n",
    "    li15.append(i**2)\n",
    "\n",
    "print(list15)\n",
    "print(li15)"
   ]
  },
  {
   "cell_type": "markdown",
   "metadata": {},
   "source": [
    "### 16) WAP to create a new list (fruit whose name starts with 'b') from the list of fruits given by user."
   ]
  },
  {
   "cell_type": "code",
   "execution_count": 5,
   "metadata": {},
   "outputs": [
    {
     "name": "stdin",
     "output_type": "stream",
     "text": [
      "Enter size of list: 5\n",
      "Enter fruit Name: apple\n",
      "Enter fruit Name: banana\n",
      "Enter fruit Name: blue\n",
      "Enter fruit Name: ksndfjh\n",
      "Enter fruit Name: berry\n"
     ]
    },
    {
     "name": "stdout",
     "output_type": "stream",
     "text": [
      "['banana', 'blue', 'berry']\n"
     ]
    }
   ],
   "source": [
    "n16 = int(input(\"Enter size of list:\"))\n",
    "\n",
    "list16 = []\n",
    "for i in range(n16):\n",
    "    list16.append(input(\"Enter fruit Name:\"))\n",
    "\n",
    "li16 = []\n",
    "for i in list16:\n",
    "    if(i.lower().startswith(\"b\")):\n",
    "        li16.append(i)\n",
    "\n",
    "print(li16)"
   ]
  },
  {
   "cell_type": "markdown",
   "metadata": {},
   "source": [
    "### 17) WAP to create a list of common elements from given two lists."
   ]
  },
  {
   "cell_type": "code",
   "execution_count": 18,
   "metadata": {},
   "outputs": [
    {
     "name": "stdin",
     "output_type": "stream",
     "text": [
      "Enter Size of List: 5\n",
      "Enter first list Element abc\n",
      "Enter second list element abcd\n",
      "Enter first list Element abcd\n",
      "Enter second list element abc\n",
      "Enter first list Element hj\n",
      "Enter second list element jksdh\n",
      "Enter first list Element jksdh\n",
      "Enter second list element hj\n",
      "Enter first list Element 5\n",
      "Enter second list element 5\n"
     ]
    },
    {
     "name": "stdout",
     "output_type": "stream",
     "text": [
      "['abc', 'abcd', 'hj', 'jksdh', '5']\n"
     ]
    }
   ],
   "source": [
    "n17 = int(input(\"Enter Size of List:\"))\n",
    "\n",
    "list17 =[]\n",
    "li17 = []\n",
    "l17 = []\n",
    "\n",
    "for i in range(n17):\n",
    "    list17.append(input(\"Enter first list Element\"))\n",
    "    li17.append(input(\"Enter second list element\"))\n",
    "\n",
    "for i in list17:\n",
    "    if(i in li17):\n",
    "        l17.append(i)\n",
    "\n",
    "print(l17)"
   ]
  },
  {
   "cell_type": "code",
   "execution_count": null,
   "metadata": {},
   "outputs": [],
   "source": []
  }
 ],
 "metadata": {
  "kernelspec": {
   "display_name": "Python 3 (ipykernel)",
   "language": "python",
   "name": "python3"
  },
  "language_info": {
   "codemirror_mode": {
    "name": "ipython",
    "version": 3
   },
   "file_extension": ".py",
   "mimetype": "text/x-python",
   "name": "python",
   "nbconvert_exporter": "python",
   "pygments_lexer": "ipython3",
   "version": "3.12.7"
  }
 },
 "nbformat": 4,
 "nbformat_minor": 4
}
