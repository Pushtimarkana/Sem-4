{
 "cells": [
  {
   "attachments": {},
   "cell_type": "markdown",
   "metadata": {},
   "source": [
    "<a href='https://www.darshan.ac.in/'> <img src='https://www.darshan.ac.in/Content/media/DU_Logo.svg' width=\"250\" height=\"300\"/></a>\n",
    "<pre>\n",
    "<center><b><h1>Python Programming - 2301CS404</b></center>\n",
    "<center><b><h1>Lab - 11</b></center>\n",
    "    <center>Pushti Markana || 23010101160</center>\n",
    "<pre>"
   ]
  },
  {
   "cell_type": "markdown",
   "metadata": {},
   "source": [
    "# Modules"
   ]
  },
  {
   "cell_type": "markdown",
   "metadata": {},
   "source": [
    "### 01) WAP to create Calculator module which defines functions like add, sub,mul and div. \n",
    "### Create another .py file that uses the functions available in Calculator module."
   ]
  },
  {
   "cell_type": "code",
   "execution_count": 6,
   "metadata": {},
   "outputs": [
    {
     "name": "stdin",
     "output_type": "stream",
     "text": [
      "Enter Number 1 5\n",
      "Enter Number 2 2\n",
      "Enter +for addition,- for subtraction,* for multiplication,/ for division +\n"
     ]
    },
    {
     "name": "stdout",
     "output_type": "stream",
     "text": [
      "7\n"
     ]
    }
   ],
   "source": [
    "import Calculator as c\n",
    "n1=int(input(\"Enter Number 1\"))\n",
    "n11=int(input(\"Enter Number 2\"))\n",
    "s1=input(\"Enter +for addition,- for subtraction,* for multiplication,/ for division\")\n",
    "match s1:\n",
    "    case '+' : print(c.addition(n1,n11))\n",
    "    case '-' : print(c.subtraction(n1,n11))\n",
    "    case '*' : print(c.multiplication(n1,n11))\n",
    "    case '/' : print(c.division(n1,n11))"
   ]
  },
  {
   "cell_type": "markdown",
   "metadata": {},
   "source": [
    "### 02) WAP to pick a random character from a given String."
   ]
  },
  {
   "cell_type": "code",
   "execution_count": 12,
   "metadata": {},
   "outputs": [
    {
     "name": "stdin",
     "output_type": "stream",
     "text": [
      "Enter String asdfghujikop;lmnbv\n"
     ]
    },
    {
     "name": "stdout",
     "output_type": "stream",
     "text": [
      "j\n"
     ]
    }
   ],
   "source": [
    "import random as r\n",
    "s2=input(\"Enter String\")\n",
    "print(r.choice(s2))"
   ]
  },
  {
   "cell_type": "markdown",
   "metadata": {},
   "source": [
    "### 03) WAP to pick a random element from a given list."
   ]
  },
  {
   "cell_type": "code",
   "execution_count": 26,
   "metadata": {},
   "outputs": [
    {
     "name": "stdout",
     "output_type": "stream",
     "text": [
      "3\n"
     ]
    }
   ],
   "source": [
    "l3=[2,3,5,'u',10.23,'sdfghj']\n",
    "print(r.choice(l3))"
   ]
  },
  {
   "cell_type": "markdown",
   "metadata": {},
   "source": [
    "### 04) WAP to roll a dice in such a way that every time you get the same number."
   ]
  },
  {
   "cell_type": "code",
   "execution_count": 35,
   "metadata": {},
   "outputs": [
    {
     "name": "stdout",
     "output_type": "stream",
     "text": [
      "5\n"
     ]
    }
   ],
   "source": [
    "r.seed(5)\n",
    "print(r.randint(1,7))"
   ]
  },
  {
   "cell_type": "markdown",
   "metadata": {},
   "source": [
    "### 05) WAP to generate 3 random integers between 100 and 999 which is divisible by 5."
   ]
  },
  {
   "cell_type": "code",
   "execution_count": 43,
   "metadata": {},
   "outputs": [
    {
     "name": "stdout",
     "output_type": "stream",
     "text": [
      "{415, 930, 695}\n"
     ]
    }
   ],
   "source": [
    "s=set()\n",
    "while(len(s)<3):\n",
    "    s.add(r.randrange(100,1000,5))\n",
    "\n",
    "print(s)"
   ]
  },
  {
   "cell_type": "markdown",
   "metadata": {},
   "source": [
    "### 06) WAP to generate 100 random lottery tickets and pick two lucky tickets from it and announce them as Winner and Runner up respectively."
   ]
  },
  {
   "cell_type": "code",
   "execution_count": 47,
   "metadata": {},
   "outputs": [
    {
     "name": "stdout",
     "output_type": "stream",
     "text": [
      "[4616, 9031, 1608, 5219, 5290, 5116, 3007, 1381, 2539, 5167, 8026, 2746, 895, 1426, 9941, 8841, 6750, 621, 3988, 9831, 5733, 4199, 7565, 7010, 2485, 1012, 636, 8186, 5575, 3492, 2239, 9341, 2275, 6880, 1847, 2865, 7219, 6211, 2545, 1062, 6991, 4930, 2413, 7524, 2873, 8655, 7530, 8097, 5305, 7948, 4589, 4868, 7801, 6715, 2500, 1944, 6276, 8812, 3039, 8280, 5645, 3051, 1560, 8158, 4561, 8540, 9080, 8338, 6019, 1133, 5927, 9725, 662, 5108, 6054, 9263, 4701, 8057, 4439, 4914, 5671, 3026, 9613, 289, 7870, 9061, 4207, 5439, 4584, 7684, 4832, 8297, 5942, 5799, 4587, 5762, 6792, 5835, 2925, 7469]\n",
      "{7530, 2413}\n"
     ]
    }
   ],
   "source": [
    "s6=set()\n",
    "l6=[r.randint(100,10000) for i in range(100)]\n",
    "\n",
    "while(len(s6)<2):\n",
    "    s6.add(r.choice(l6))\n",
    "\n",
    "\n",
    "print(l6)\n",
    "print(s6)"
   ]
  },
  {
   "cell_type": "markdown",
   "metadata": {},
   "source": [
    "### 07) WAP to print current date and time in Python."
   ]
  },
  {
   "cell_type": "code",
   "execution_count": 61,
   "metadata": {},
   "outputs": [
    {
     "name": "stdout",
     "output_type": "stream",
     "text": [
      "2025-02-18 11:02:59.118687\n"
     ]
    }
   ],
   "source": [
    "import datetime as dt\n",
    "print(d.datetime.now())"
   ]
  },
  {
   "cell_type": "markdown",
   "metadata": {},
   "source": [
    "### 08) Subtract a week (7 days) from a given date in Python."
   ]
  },
  {
   "cell_type": "code",
   "execution_count": 73,
   "metadata": {},
   "outputs": [
    {
     "name": "stdout",
     "output_type": "stream",
     "text": [
      "2025-02-11 00:00:00\n"
     ]
    }
   ],
   "source": [
    "date8='18/02/2025'\n",
    "d8=dt.datetime.strptime(date8,\"%d/%m/%Y\")\n",
    "print(d8+dt.timedelta(days=-7))"
   ]
  },
  {
   "cell_type": "markdown",
   "metadata": {},
   "source": [
    "### 09) WAP to Calculate number of days between two given dates."
   ]
  },
  {
   "cell_type": "code",
   "execution_count": 75,
   "metadata": {},
   "outputs": [
    {
     "name": "stdout",
     "output_type": "stream",
     "text": [
      "31 days, 0:00:00\n"
     ]
    }
   ],
   "source": [
    "date1='18/02/2025'\n",
    "date2 = '18/01/2025'\n",
    "d1=dt.datetime.strptime(date1,\"%d/%m/%Y\")\n",
    "d2= dt.datetime.strptime(date2,\"%d/%m/%Y\")\n",
    "print(d1-d2)"
   ]
  },
  {
   "cell_type": "markdown",
   "metadata": {},
   "source": [
    "### 10) WAP to Find the day of the week of a given date.(i.e. wether it is sunday/monday/tuesday/etc.)"
   ]
  },
  {
   "cell_type": "code",
   "execution_count": 79,
   "metadata": {},
   "outputs": [
    {
     "name": "stdout",
     "output_type": "stream",
     "text": [
      " Tuesday\n"
     ]
    }
   ],
   "source": [
    "date10='18/02/2025'\n",
    "d10=dt.datetime.strptime(date10,\"%d/%m/%Y\")\n",
    "print(d10.strftime(\" %A\"))"
   ]
  },
  {
   "cell_type": "markdown",
   "metadata": {},
   "source": [
    "### 11) WAP to demonstrate the use of date time module."
   ]
  },
  {
   "cell_type": "code",
   "execution_count": 101,
   "metadata": {},
   "outputs": [
    {
     "name": "stdout",
     "output_type": "stream",
     "text": [
      "7215 days, 11:22:55.468099\n",
      "19 days, 18:26:31.713611\n"
     ]
    }
   ],
   "source": [
    "date11='19/05/2005'\n",
    "d11=dt.datetime.strptime(date11,\"%d/%m/%Y\")\n",
    "print(dt.datetime.today()-d11)\n",
    "age=(dt.datetime.today()-d11)/365\n",
    "print(age)  \n",
    "# calculate my age"
   ]
  },
  {
   "cell_type": "markdown",
   "metadata": {},
   "source": [
    "### 12) WAP to demonstrate the use of the math module."
   ]
  },
  {
   "cell_type": "code",
   "execution_count": 89,
   "metadata": {},
   "outputs": [
    {
     "name": "stdout",
     "output_type": "stream",
     "text": [
      "e: 2.718281828459045\n",
      "PI: 3.141592653589793\n",
      "Tau: 6.283185307179586\n"
     ]
    }
   ],
   "source": [
    "import math \n",
    "print(\"e:\",math.e)\n",
    "print(\"PI:\",math.pi)\n",
    "print(\"Tau:\",math.tau)"
   ]
  },
  {
   "cell_type": "code",
   "execution_count": null,
   "metadata": {},
   "outputs": [],
   "source": []
  }
 ],
 "metadata": {
  "kernelspec": {
   "display_name": "Python 3 (ipykernel)",
   "language": "python",
   "name": "python3"
  },
  "language_info": {
   "codemirror_mode": {
    "name": "ipython",
    "version": 3
   },
   "file_extension": ".py",
   "mimetype": "text/x-python",
   "name": "python",
   "nbconvert_exporter": "python",
   "pygments_lexer": "ipython3",
   "version": "3.12.7"
  }
 },
 "nbformat": 4,
 "nbformat_minor": 4
}
