{
 "cells": [
  {
   "cell_type": "markdown",
   "metadata": {},
   "source": [
    "\n",
    "<a href='https://www.darshan.ac.in/'> <img src='https://www.darshan.ac.in/Content/media/DU_Logo.svg' width=\"250\" height=\"300\"/></a>\n",
    "<pre>\n",
    "<center><b><h1>Python Programming - 2301CS404</b></center>\n",
    "<center><b><h1>Lab - 4</b></center>\n",
    "    <center><b>Pushti Markana</b> || 23010101160</center>\n",
    "<pre>"
   ]
  },
  {
   "cell_type": "markdown",
   "metadata": {},
   "source": [
    "# String"
   ]
  },
  {
   "cell_type": "markdown",
   "metadata": {},
   "source": [
    "### 01) WAP to check whether the given string is palindrome or not."
   ]
  },
  {
   "cell_type": "code",
   "execution_count": 14,
   "metadata": {},
   "outputs": [
    {
     "name": "stdin",
     "output_type": "stream",
     "text": [
      "Enter String: darad\n"
     ]
    },
    {
     "name": "stdout",
     "output_type": "stream",
     "text": [
      "String is palindrome:\n"
     ]
    }
   ],
   "source": [
    "str1 = input(\"Enter String:\")\n",
    "a1=str[::-1]\n",
    "if(a1==str1):\n",
    "    print(\"String is palindrome:\")\n",
    "else:\n",
    "    print(\"String is not palindrome:\")\n"
   ]
  },
  {
   "cell_type": "markdown",
   "metadata": {},
   "source": [
    "### 02) WAP to reverse the words in the given string."
   ]
  },
  {
   "cell_type": "code",
   "execution_count": 54,
   "metadata": {},
   "outputs": [
    {
     "name": "stdin",
     "output_type": "stream",
     "text": [
      "Enter String: dar uni ver\n"
     ]
    },
    {
     "name": "stdout",
     "output_type": "stream",
     "text": [
      "rev inu rad\n",
      "['dar', 'uni', 'ver']\n",
      "['ver', 'uni', 'dar']\n",
      "rad inu rev \n"
     ]
    }
   ],
   "source": [
    "str2=input(\"Enter String:\")\n",
    "a2=str2[::-1]\n",
    "\n",
    "b2=str2.split()\n",
    "c2=b2[::-1]\n",
    "\n",
    "d2=\"\"\n",
    "for i in b2:\n",
    "     d2 = d2+i[::-1]+ \" \"\n",
    "    \n",
    "\n",
    "print(a2)\n",
    "print(b2)\n",
    "print(c2)\n",
    "print(d2)"
   ]
  },
  {
   "cell_type": "markdown",
   "metadata": {},
   "source": [
    "### 03) WAP to remove ith character from given string."
   ]
  },
  {
   "cell_type": "code",
   "execution_count": 62,
   "metadata": {},
   "outputs": [
    {
     "name": "stdin",
     "output_type": "stream",
     "text": [
      "Enter String: darshan\n",
      "Enter Index: 3\n"
     ]
    },
    {
     "name": "stdout",
     "output_type": "stream",
     "text": [
      "darhan\n"
     ]
    }
   ],
   "source": [
    "str3 = input(\"Enter String:\")\n",
    "\n",
    "index=int(input(\"Enter Index:\"))\n",
    "\n",
    "s3=str3[:index:]+str3[index+1::]\n",
    "\n",
    "print(s3)\n"
   ]
  },
  {
   "cell_type": "markdown",
   "metadata": {},
   "source": [
    "### 04) WAP to find length of string without using len function."
   ]
  },
  {
   "cell_type": "code",
   "execution_count": 64,
   "metadata": {},
   "outputs": [
    {
     "name": "stdin",
     "output_type": "stream",
     "text": [
      "Enter String: darshan University\n"
     ]
    },
    {
     "name": "stdout",
     "output_type": "stream",
     "text": [
      "18\n"
     ]
    }
   ],
   "source": [
    "str4 = input(\"Enter String:\")\n",
    "\n",
    "count=0;\n",
    "for i in str4:\n",
    "    count+=1\n",
    "\n",
    "print(count)"
   ]
  },
  {
   "cell_type": "markdown",
   "metadata": {},
   "source": [
    "### 05) WAP to print even length word in string."
   ]
  },
  {
   "cell_type": "code",
   "execution_count": 72,
   "metadata": {},
   "outputs": [
    {
     "name": "stdin",
     "output_type": "stream",
     "text": [
      "Enter String: fff ffff ffffff ffffff\n"
     ]
    },
    {
     "name": "stdout",
     "output_type": "stream",
     "text": [
      "ffff\n",
      "ffffff\n",
      "ffffff\n"
     ]
    },
    {
     "data": {
      "text/plain": [
       "22"
      ]
     },
     "execution_count": 72,
     "metadata": {},
     "output_type": "execute_result"
    }
   ],
   "source": [
    "str5 = input(\"Enter String:\")\n",
    "\n",
    "st5=str5.split()\n",
    "for i in st5:\n",
    "    if(len(i)%2==0):\n",
    "        print(i)\n",
    "        \n",
    "len(str5)\n",
    "\n"
   ]
  },
  {
   "cell_type": "markdown",
   "metadata": {},
   "source": [
    "### 06) WAP to count numbers of vowels in given string."
   ]
  },
  {
   "cell_type": "code",
   "execution_count": 76,
   "metadata": {},
   "outputs": [
    {
     "name": "stdin",
     "output_type": "stream",
     "text": [
      "Enter String: pushti markana\n"
     ]
    },
    {
     "name": "stdout",
     "output_type": "stream",
     "text": [
      "5\n"
     ]
    }
   ],
   "source": [
    "str6 = input(\"Enter String:\")\n",
    "\n",
    "count=0;\n",
    "str6.lower()\n",
    "for i in str6:\n",
    "    if('a' in i or 'e' in i or 'i' in i or 'o' in i or 'u' in i):\n",
    "        count+=1;\n",
    "\n",
    "print(count)\n"
   ]
  },
  {
   "cell_type": "markdown",
   "metadata": {},
   "source": [
    "### 07) WAP to capitalize the first and last character of each word in a string."
   ]
  },
  {
   "cell_type": "code",
   "execution_count": 74,
   "metadata": {},
   "outputs": [
    {
     "name": "stdin",
     "output_type": "stream",
     "text": [
      "Enter String: jhbjabf mndbfkjk sfbgkjsjfg\n"
     ]
    },
    {
     "name": "stdout",
     "output_type": "stream",
     "text": [
      "JhbjabF MndbfkjK SfbgkjsjfG \n"
     ]
    }
   ],
   "source": [
    "str7 = input(\"Enter String:\")\n",
    "\n",
    "str7=str7.title()\n",
    "\n",
    "\n",
    "st7= str7.split()\n",
    "a7=\"\"\n",
    "for i in st7:\n",
    "    # a7 = a7 + i[0].upper() + i[1:len(i)-1:]\n",
    "    # a7=a7 + i[len(i)-1].upper()+ \" \"\n",
    "    \n",
    "    a7=a7+i[:len(i)-1:]+i[len(i)-1].upper()+ \" \"\n",
    "\n",
    "\n",
    "print(a7)"
   ]
  },
  {
   "cell_type": "markdown",
   "metadata": {},
   "source": [
    "### 08) WAP to convert given array to string."
   ]
  },
  {
   "cell_type": "code",
   "execution_count": 27,
   "metadata": {},
   "outputs": [
    {
     "name": "stdin",
     "output_type": "stream",
     "text": [
      "Enter Size of Array: 5\n",
      "Emter Element of Array from word: python\n",
      "Emter Element of Array from word: lecture\n",
      "Emter Element of Array from word: and \n",
      "Emter Element of Array from word: lab\n",
      "Emter Element of Array from word: 4\n"
     ]
    },
    {
     "name": "stdout",
     "output_type": "stream",
     "text": [
      "['python', 'lecture', 'and ', 'lab', '4']\n"
     ]
    },
    {
     "data": {
      "text/plain": [
       "'python lecture and  lab 4'"
      ]
     },
     "execution_count": 27,
     "metadata": {},
     "output_type": "execute_result"
    }
   ],
   "source": [
    "n8 = int(input(\"Enter Size of Array:\"))\n",
    "\n",
    "list8=[];\n",
    "for i in range(n8):\n",
    "    list8.append(input(\"Emter Element of Array from word:\"))\n",
    "\n",
    "print(list8)\n",
    "\" \".join(list8)"
   ]
  },
  {
   "cell_type": "markdown",
   "metadata": {},
   "source": [
    "### 09) Check if the password and confirm password is same or not. \n",
    "### In case of only case's mistake, show the error message."
   ]
  },
  {
   "cell_type": "code",
   "execution_count": null,
   "metadata": {},
   "outputs": [],
   "source": [
    "pass1=input(\"Enter Password :\")\n",
    "pass2=input(\"Enter Password again for confirm:\")\n",
    "\n",
    "if(pass1==pass2):\n",
    "    print(\"Password are Same:\")\n",
    "    pass\n",
    "else:\n",
    "    if(pass1.lower()==pass2.lower()):\n",
    "        print(\"Error of case's mistek:\")\n",
    "    else:\n",
    "        print(\"Both Password is not Same:\")\n"
   ]
  },
  {
   "cell_type": "markdown",
   "metadata": {},
   "source": [
    "### 10) : Display credit card number. \n",
    "### card no. : 1234 5678 9012 3456\n",
    "### display as  : **** **** **** 3456"
   ]
  },
  {
   "cell_type": "code",
   "execution_count": 27,
   "metadata": {},
   "outputs": [
    {
     "name": "stdin",
     "output_type": "stream",
     "text": [
      "Enter Cradit Card Number: 1234 5678 9012 3456\n"
     ]
    },
    {
     "data": {
      "text/plain": [
       "'**** **** **** 3456'"
      ]
     },
     "execution_count": 27,
     "metadata": {},
     "output_type": "execute_result"
    }
   ],
   "source": [
    "cd_no = input(\"Enter Cradit Card Number:\")\n",
    "\n",
    "list=cd_no.split()\n",
    "\n",
    "\n",
    "mark_no = ['****' for _ in range(3)]+ [list[3]]\n",
    "\n",
    "\n",
    "\" \".join(mark_no)\n",
    "\n"
   ]
  },
  {
   "cell_type": "markdown",
   "metadata": {},
   "source": [
    "### 11) : Checking if the two strings are Anagram or not.\n",
    "### s1 = decimal and s2 = medical are Anagram"
   ]
  },
  {
   "cell_type": "code",
   "execution_count": 13,
   "metadata": {},
   "outputs": [
    {
     "name": "stdin",
     "output_type": "stream",
     "text": [
      "Enter String 1:     decimal\n",
      "Enter String 2: medi cal\n"
     ]
    },
    {
     "name": "stdout",
     "output_type": "stream",
     "text": [
      "Strings are Anagram:\n"
     ]
    }
   ],
   "source": [
    "s11 = input(\"Enter String 1:\")\n",
    "str11= input(\"Enter String 2:\")\n",
    "\n",
    "s11=s11.replace(\" \",\"\").lower()\n",
    "str11=str11.replace(\" \",\"\").lower()\n",
    "\n",
    "if(sorted(s11) == sorted(str11)):\n",
    "    print(\"Strings are Anagram:\")\n",
    "else:\n",
    "    print(\"Strings are  not Anagram:\")\n"
   ]
  },
  {
   "cell_type": "markdown",
   "metadata": {},
   "source": [
    "### 12) : Rearrange the given string. First lowercase then uppercase alphabets.\n",
    "### input : EHlsarwiwhtwMV\n",
    "### output : lsarwiwhtwEHMV"
   ]
  },
  {
   "cell_type": "code",
   "execution_count": 71,
   "metadata": {},
   "outputs": [
    {
     "name": "stdin",
     "output_type": "stream",
     "text": [
      "Enter String: EHlsarwiwhtwMV\n"
     ]
    },
    {
     "name": "stdout",
     "output_type": "stream",
     "text": [
      "lsarwiwhtwEHMV\n"
     ]
    }
   ],
   "source": [
    "str12 = input(\"Enter String:\")\n",
    "\n",
    "st12=\"\"\n",
    "s12=\"\"\n",
    "for i in str12:\n",
    "    if(i.islower()):\n",
    "        st12=st12+i\n",
    "    elif(i.isupper()):  \n",
    "        s12=s12+i\n",
    "\n",
    "print(st12+s12)"
   ]
  },
  {
   "cell_type": "code",
   "execution_count": null,
   "metadata": {},
   "outputs": [],
   "source": []
  }
 ],
 "metadata": {
  "kernelspec": {
   "display_name": "Python 3 (ipykernel)",
   "language": "python",
   "name": "python3"
  },
  "language_info": {
   "codemirror_mode": {
    "name": "ipython",
    "version": 3
   },
   "file_extension": ".py",
   "mimetype": "text/x-python",
   "name": "python",
   "nbconvert_exporter": "python",
   "pygments_lexer": "ipython3",
   "version": "3.12.7"
  },
  "vscode": {
   "interpreter": {
    "hash": "31f2aee4e71d21fbe5cf8b01ff0e069b9275f58929596ceb00d14d90e3e16cd6"
   }
  }
 },
 "nbformat": 4,
 "nbformat_minor": 4
}
