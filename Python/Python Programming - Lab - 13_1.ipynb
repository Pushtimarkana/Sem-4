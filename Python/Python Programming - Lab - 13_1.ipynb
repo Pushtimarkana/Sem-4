{
 "cells": [
  {
   "cell_type": "markdown",
   "metadata": {},
   "source": [
    "<a href='https://www.darshan.ac.in/'> <img src='https://www.darshan.ac.in/Content/media/DU_Logo.svg' width=\"250\" height=\"300\"/></a>\n",
    "<pre>\n",
    "<center><b><h1>Python Programming - 2301CS404</b></center>\n",
    "<center><b><h1>Lab - 13</b></center>  \n",
    "    <center>Pushti Markana || 23010101160</center>\n",
    "<pre>"
   ]
  },
  {
   "cell_type": "markdown",
   "metadata": {},
   "source": [
    "# OOP"
   ]
  },
  {
   "cell_type": "markdown",
   "metadata": {},
   "source": [
    "### 01) Write a Program to create a class by name Students, and initialize attributes like name, age, and grade while creating an object."
   ]
  },
  {
   "cell_type": "code",
   "execution_count": 6,
   "metadata": {},
   "outputs": [
    {
     "name": "stdout",
     "output_type": "stream",
     "text": [
      "Student Name:Pushti,Age is 19 and Grade is A\n"
     ]
    }
   ],
   "source": [
    "class Student:\n",
    "    def __init__(self,name,age,grade):\n",
    "        self.Name=name\n",
    "        self.Age=age\n",
    "        self.Grade=grade\n",
    "\n",
    "    def display(self):\n",
    "        print(f\"Student Name:{self.Name},Age is {self.Age} and Grade is {self.Grade}\")\n",
    "\n",
    "s1=Student(\"Pushti\",19,\"A\")\n",
    "s1.display()"
   ]
  },
  {
   "cell_type": "markdown",
   "metadata": {},
   "source": [
    "### 02) Create a class named Bank_Account with Account_No, User_Name, Email,Account_Type and Account_Balance data members. Also create a method GetAccountDetails() and DisplayAccountDetails(). Create main method to demonstrate the Bank_Account class."
   ]
  },
  {
   "cell_type": "code",
   "execution_count": 8,
   "metadata": {},
   "outputs": [
    {
     "name": "stdout",
     "output_type": "stream",
     "text": [
      "Enter Details abount Account\n"
     ]
    },
    {
     "name": "stdin",
     "output_type": "stream",
     "text": [
      "Enter Account No: 456321\n",
      "Enter User Name: oujfkd\n",
      "Entetr Email: jkfghjbg\n",
      "Enter Acount Type: saving\n",
      "Enter Balance: 50000\n"
     ]
    },
    {
     "name": "stdout",
     "output_type": "stream",
     "text": [
      "\n",
      "\n",
      "Account Number is:456321 and User is oujfkd\n",
      "Email is jkfghjbg and Account Type saving\n",
      "Account Balance is 50000\n"
     ]
    }
   ],
   "source": [
    "class Bank_Account:\n",
    "    def getAccountDetails(self):\n",
    "        print(\"Enter Details abount Account\")\n",
    "        self.acc_No=input(\"Enter Account No:\")\n",
    "        self.user_Name=input(\"Enter User Name:\")\n",
    "        self.email= input(\"Entetr Email:\")\n",
    "        self.acc_Type=input(\"Enter Acount Type:\")\n",
    "        self.acc_Balance=input(\"Enter Balance:\")\n",
    "\n",
    "    def DisplayAccountDetails(self):\n",
    "        print(\"\\n\")\n",
    "        print(f\"Account Number is:{self.acc_No} and User is {self.user_Name}\")\n",
    "        print(f\"Email is {self.email} and Account Type {self.acc_Type}\")\n",
    "        print(f\"Account Balance is {self.acc_Balance}\")\n",
    "\n",
    "b1= Bank_Account()\n",
    "b1.getAccountDetails()\n",
    "b1.DisplayAccountDetails()\n",
    "        "
   ]
  },
  {
   "cell_type": "markdown",
   "metadata": {},
   "source": [
    "### 03) WAP to create Circle class with area and perimeter function to find area and perimeter of circle."
   ]
  },
  {
   "cell_type": "code",
   "execution_count": 10,
   "metadata": {},
   "outputs": [
    {
     "name": "stdout",
     "output_type": "stream",
     "text": [
      "Area is : 314.1592653589793\n",
      "Perimeter is :62.83\n"
     ]
    }
   ],
   "source": [
    "import math\n",
    "class Circle:\n",
    "    def __init__(self,r):\n",
    "        self.Radius=r\n",
    "\n",
    "    def area(self):\n",
    "        print(\"Area is :\",math.pi*self.Radius*self.Radius)\n",
    "\n",
    "    def perimeter(self):\n",
    "        print(f\"Perimeter is :{2*math.pi*self.Radius :.2f}\")\n",
    "\n",
    "c1= Circle(10)\n",
    "c1.area()\n",
    "c1.perimeter()"
   ]
  },
  {
   "cell_type": "markdown",
   "metadata": {},
   "source": [
    "### 04) Create a class for employees that includes attributes such as name, age, salary, and methods to update and display employee information."
   ]
  },
  {
   "cell_type": "code",
   "execution_count": 28,
   "metadata": {},
   "outputs": [
    {
     "name": "stdin",
     "output_type": "stream",
     "text": [
      "Enter Salaery: 200000\n"
     ]
    },
    {
     "name": "stdout",
     "output_type": "stream",
     "text": [
      "{'name': 'Pushti', 'age': 19, 'salary': '200000'}\n",
      "{'name': 'Vishva', 'age': 19, 'salary': 50000}\n",
      "{2: {'name': 'Pushti', 'age': 19, 'salary': '200000'}, 3: {'name': 'Vishva', 'age': 19, 'salary': 50000}}\n"
     ]
    }
   ],
   "source": [
    "class Employee:\n",
    "    id=1\n",
    "    def __init__(self):\n",
    "        self.emp={}\n",
    "        self.id=Employee.id\n",
    "        \n",
    "    \n",
    "    def addEmp(self,name,age,salary):\n",
    "        self.id+=1\n",
    "        self.emp[self.id]={}\n",
    "        self.emp[self.id]={'id':self.id,'name':name,\"age\":age,\"salary\":salary}\n",
    "\n",
    "    def updateEmp(self,id):\n",
    "        if id in self.emp.keys():\n",
    "            sal=input(\"Enter Salaery:\")\n",
    "            self.emp[id][\"salary\"]=sal\n",
    "        else:\n",
    "            print(\"Id is not Available:\")\n",
    "\n",
    "    def display(self):\n",
    "        for i in self.emp:\n",
    "            print(self.emp[i])\n",
    "\n",
    "e=Employee()\n",
    "e.addEmp(\"Pushti\",19,5000)\n",
    "e.addEmp(\"Vishva\",19,50000)\n",
    "e.updateEmp(2)\n",
    "e.display()\n",
    "        "
   ]
  },
  {
   "cell_type": "markdown",
   "metadata": {},
   "source": [
    "### 05) Create a bank account class with methods to deposit, withdraw, and check balance."
   ]
  },
  {
   "cell_type": "code",
   "execution_count": 44,
   "metadata": {},
   "outputs": [
    {
     "name": "stdin",
     "output_type": "stream",
     "text": [
      "Enter Amount : 400\n"
     ]
    },
    {
     "name": "stdout",
     "output_type": "stream",
     "text": [
      "Ammount is Insficcient:\n",
      "{'id': 101, 'name': 'pushti', 'balance': 50000}\n"
     ]
    }
   ],
   "source": [
    "class Bank:\n",
    "    acc_id=100\n",
    "    def __init__(self):\n",
    "        self.acc={}\n",
    "        self.acc_id=Bank.acc_id\n",
    "        \n",
    "    \n",
    "    def addAccount(self,name,balance):\n",
    "        self.acc_id+=1\n",
    "        self.acc[self.acc_id]={}\n",
    "        self.acc[self.acc_id]={'id':self.acc_id,'name':name,\"balance\":balance}\n",
    "\n",
    "    def deposit(self,id):\n",
    "        if id in self.acc.keys():\n",
    "            deposit=int(input(\"Enter Amount :\"))\n",
    "            self.acc[id][\"balance\"]+=deposit\n",
    "        else:\n",
    "            print(\"Id is not Available:\")\n",
    "\n",
    "    def withdraw(self,id):\n",
    "        if id in self.acc.keys():\n",
    "            withdraw=int(input(\"Enter Amount :\"))\n",
    "            if withdraw>self.acc[id][\"balance\"]:\n",
    "                self.acc[id][\"balance\"]-=withdraw\n",
    "\n",
    "            else:\n",
    "                print(\"Ammount is Insficcient:\")\n",
    "        else:\n",
    "            print(\"Id is not Available:\")\n",
    "        \n",
    "    def display(self):\n",
    "        for i in self.acc:\n",
    "            print(self.acc[i])\n",
    "\n",
    "b1=Bank()\n",
    "b1.addAccount(\"pushti\",50000)\n",
    "# b1.deposit(101)\n",
    "b1.withdraw(101)\n",
    "b1.display()"
   ]
  },
  {
   "cell_type": "markdown",
   "metadata": {},
   "source": [
    "### 06) Create a class for managing inventory that includes attributes such as item name, price, quantity, and methods to add, remove, and update items."
   ]
  },
  {
   "cell_type": "code",
   "execution_count": 13,
   "metadata": {},
   "outputs": [
    {
     "name": "stdin",
     "output_type": "stream",
     "text": [
      "Enter Nmae for update: meshti\n",
      "Enter Quantity foe Update: 2\n"
     ]
    },
    {
     "name": "stdout",
     "output_type": "stream",
     "text": [
      "{'name': 'meshti', 'price': 19000, 'quantity': '2'}\n",
      "{'name': 'Vishva', 'price': 1500, 'quantity': 3}\n"
     ]
    }
   ],
   "source": [
    "class Inventory:\n",
    "    def __init__(self):\n",
    "        self.inv={}\n",
    "\n",
    "    def addInv(self,name,price,quantity):\n",
    "        self.inv[name]={}\n",
    "        self.inv[name]={'name':name,'price':price,\"quantity\":quantity}\n",
    "\n",
    "    def remove(self,name):\n",
    "        if name in self.inv.keys():\n",
    "            self.inv.pop(name)\n",
    "        else:\n",
    "            print(\"Invalid Name :\")\n",
    "\n",
    "    def updateInv(self,name):\n",
    "        if name in self.inv.keys():\n",
    "            new_name=input(\"Enter Nmae for update:\")\n",
    "            new_quantity= input(\"Enter Quantity foe Update:\")\n",
    "            self.inv[name]['name']=new_name\n",
    "            self.inv[name]['quantity']= new_quantity\n",
    "        else:\n",
    "            print(\"Invalid Id\")\n",
    "\n",
    "    def display(self):\n",
    "        for i in self.inv:\n",
    "            print(self.inv[i])\n",
    "\n",
    "i=Inventory()\n",
    "i.addInv(\"Pushti\",19000,5)\n",
    "i.addInv(\"Vishva\",1500,3)\n",
    "i.updateInv(\"Pushti\")\n",
    "i.display()\n",
    "        \n",
    "        "
   ]
  },
  {
   "cell_type": "markdown",
   "metadata": {},
   "source": [
    "### 07) Create a Class with instance attributes of your choice."
   ]
  },
  {
   "cell_type": "code",
   "execution_count": 15,
   "metadata": {},
   "outputs": [
    {
     "name": "stdout",
     "output_type": "stream",
     "text": [
      "Name is abc\n",
      "Age is 50\n",
      "Name is xyz\n",
      "Age is 25\n"
     ]
    }
   ],
   "source": [
    "class Person:\n",
    "    def __init__(self,name,age):\n",
    "        self.Name= name\n",
    "        self.Age=age\n",
    "\n",
    "    def display(self):\n",
    "        print(\"Name is\",self.Name)\n",
    "        print(\"Age is\",self.Age)\n",
    "\n",
    "p1=Person(\"abc\",50)\n",
    "p2=Person(\"xyz\",25)\n",
    "\n",
    "p1.display()\n",
    "p2.display()"
   ]
  },
  {
   "cell_type": "markdown",
   "metadata": {},
   "source": [
    "### 08) Create one class student_kit\n",
    "#### Within the student_kit class create one class attribute principal name ( Mr ABC )\n",
    "#### Create one attendance method and take input as number of days.\n",
    "#### While creating student take input their name .\n",
    "#### Create one certificate for each student by taking input of number of days present in class."
   ]
  },
  {
   "cell_type": "code",
   "execution_count": 21,
   "metadata": {},
   "outputs": [
    {
     "name": "stdout",
     "output_type": "stream",
     "text": [
      "Certificate of Attendance\n",
      "This is to certify that Pushti has attended 25 days of class.\n",
      "Principal: Mr. ABC\n",
      "Certificate of Attendance\n",
      "This is to certify that Vishva has attended 30 days of class.\n",
      "Principal: Mr. ABC\n"
     ]
    }
   ],
   "source": [
    "class Student_kit:\n",
    "    principal_name = \"Mr. ABC\"\n",
    "\n",
    "    def __init__(self, student_name):\n",
    "        self.student_name = student_name\n",
    "        self.attendance_days = 0\n",
    "\n",
    "    def attendance(self, days):\n",
    "        self.attendance_days = days\n",
    "\n",
    "    def certificate(self):\n",
    "        print(\"Certificate of Attendance\")\n",
    "        print(f\"This is to certify that {self.student_name} has attended {self.attendance_days} days of class.\")\n",
    "        print(f\"Principal: {Student_kit.principal_name}\")\n",
    "\n",
    "# Example usage\n",
    "s1 = Student_kit(\"Pushti\")\n",
    "s1.attendance(25)\n",
    "s1.certificate()\n",
    "\n",
    "s2 = Student_kit(\"Vishva\")\n",
    "s2.attendance(30)\n",
    "s2.certificate()\n",
    "\n",
    "    "
   ]
  },
  {
   "cell_type": "markdown",
   "metadata": {},
   "source": [
    "### 09) Define Time class with hour and minute as data member. Also define addition method to add two time objects."
   ]
  },
  {
   "cell_type": "code",
   "execution_count": 23,
   "metadata": {},
   "outputs": [
    {
     "name": "stdout",
     "output_type": "stream",
     "text": [
      "4 hours and 15 minutes\n"
     ]
    }
   ],
   "source": [
    "class Time:\n",
    "    def __init__(self, hour, minute):\n",
    "        self.hour = hour\n",
    "        self.minute = minute\n",
    "\n",
    "    def addTime(self, t):\n",
    "        total_minutes = self.minute + t.minute\n",
    "        hours = total_minutes // 60\n",
    "        new_minutes = total_minutes % 60\n",
    "        new_hours = self.hour + t.hour + hours\n",
    "        return Time(new_hours, new_minutes)\n",
    "\n",
    "    def display(self):\n",
    "        print(f\"{self.hour} hours and {self.minute} minutes\")\n",
    "\n",
    "# Example usage\n",
    "time1 = Time(2, 45)\n",
    "time2 = Time(1, 30)\n",
    "\n",
    "time3 = time1.addTime(time2)\n",
    "time3.display()\n",
    "\n",
    "    "
   ]
  },
  {
   "cell_type": "code",
   "execution_count": null,
   "metadata": {},
   "outputs": [],
   "source": []
  }
 ],
 "metadata": {
  "kernelspec": {
   "display_name": "Python 3 (ipykernel)",
   "language": "python",
   "name": "python3"
  },
  "language_info": {
   "codemirror_mode": {
    "name": "ipython",
    "version": 3
   },
   "file_extension": ".py",
   "mimetype": "text/x-python",
   "name": "python",
   "nbconvert_exporter": "python",
   "pygments_lexer": "ipython3",
   "version": "3.12.7"
  }
 },
 "nbformat": 4,
 "nbformat_minor": 4
}
