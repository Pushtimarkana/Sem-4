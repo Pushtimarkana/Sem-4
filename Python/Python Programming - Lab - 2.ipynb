{
 "cells": [
  {
   "cell_type": "markdown",
   "metadata": {},
   "source": [
    "\n",
    "<a href='https://www.darshan.ac.in/'> <img src='https://www.darshan.ac.in/Content/media/DU_Logo.svg' width=\"250\" height=\"300\"/></a>\n",
    "<pre>\n",
    "<center><b><h1>Python Programming - 2301CS404</b></center>\n",
    "<center><b><h1>Lab - 2</b></center> \n",
    "    <center> Pushti Markana 23010101160</center>\n",
    "<pre>"
   ]
  },
  {
   "cell_type": "markdown",
   "metadata": {},
   "source": [
    "# if..else.."
   ]
  },
  {
   "cell_type": "markdown",
   "metadata": {},
   "source": [
    "### 01) WAP to check whether the given number is positive or negative."
   ]
  },
  {
   "cell_type": "code",
   "execution_count": 6,
   "metadata": {},
   "outputs": [
    {
     "name": "stdin",
     "output_type": "stream",
     "text": [
      "Enter Number: 5\n"
     ]
    },
    {
     "name": "stdout",
     "output_type": "stream",
     "text": [
      "Number is Positive:\n"
     ]
    }
   ],
   "source": [
    "x1=int(input(\"Enter Number:\"))\n",
    "if(x1>0):\n",
    "    print(\"Number is Positive:\")\n",
    "else:\n",
    "    print(\"Number is Negative:\")"
   ]
  },
  {
   "cell_type": "markdown",
   "metadata": {},
   "source": [
    "### 02) WAP to check whether the given number is odd or even."
   ]
  },
  {
   "cell_type": "code",
   "execution_count": 10,
   "metadata": {},
   "outputs": [
    {
     "name": "stdin",
     "output_type": "stream",
     "text": [
      "Enter Number: 5\n"
     ]
    },
    {
     "name": "stdout",
     "output_type": "stream",
     "text": [
      "Number is Odd\n"
     ]
    }
   ],
   "source": [
    "x2=int(input(\"Enter Number:\"))\n",
    "if(x2%2==0):\n",
    "    print(\"Number is Even:\")\n",
    "else:\n",
    "    print(\"Number is Odd\")"
   ]
  },
  {
   "cell_type": "markdown",
   "metadata": {},
   "source": [
    "### 03) WAP to find out largest number from given two numbers using simple if and ternary operator."
   ]
  },
  {
   "cell_type": "code",
   "execution_count": 16,
   "metadata": {},
   "outputs": [
    {
     "name": "stdin",
     "output_type": "stream",
     "text": [
      "Enter Number: 56\n",
      "Enter Number: 89\n"
     ]
    },
    {
     "name": "stdout",
     "output_type": "stream",
     "text": [
      "Second Number is Large\n",
      "B is Large\n"
     ]
    }
   ],
   "source": [
    "x3=int(input(\"Enter Number:\"))\n",
    "y3=int(input(\"Enter Number:\"))\n",
    "\n",
    "if(x3>y3):\n",
    "    print(\"First number is Large\")\n",
    "else:\n",
    "    print(\"Second Number is Large\")\n",
    "\n",
    "#  with ternary operator\n",
    "\n",
    "print(\"A is large\") if(x3>y3) else print(\"B is Large\")"
   ]
  },
  {
   "cell_type": "markdown",
   "metadata": {},
   "source": [
    "### 04) WAP to find out largest number from given three numbers."
   ]
  },
  {
   "cell_type": "code",
   "execution_count": 24,
   "metadata": {},
   "outputs": [
    {
     "name": "stdin",
     "output_type": "stream",
     "text": [
      "Enter Number: 2\n",
      "Enter Number: 3\n",
      "Enter Number: 6\n"
     ]
    },
    {
     "name": "stdout",
     "output_type": "stream",
     "text": [
      "Third Number is Large\n"
     ]
    }
   ],
   "source": [
    "x4=int(input(\"Enter Number:\"))\n",
    "y4=int(input(\"Enter Number:\"))\n",
    "z4=int(input(\"Enter Number:\"))\n",
    "\n",
    "if(x4>y4 and x4>z4):\n",
    "    print(\"First Number is Large\")\n",
    "elif(y4>z4):\n",
    "    print(\"Second Number is Large\")\n",
    "else:\n",
    "    print(\"Third Number is Large\")\n",
    "\n"
   ]
  },
  {
   "cell_type": "markdown",
   "metadata": {},
   "source": [
    "### 05) WAP to check whether the given year is leap year or not.\n",
    "[If a year can be divisible by 4 but not divisible by 100 then it is leap year but if it is divisible by 400 then it is leap year]"
   ]
  },
  {
   "cell_type": "code",
   "execution_count": 40,
   "metadata": {},
   "outputs": [
    {
     "name": "stdin",
     "output_type": "stream",
     "text": [
      "Enter Year: 2025\n"
     ]
    },
    {
     "name": "stdout",
     "output_type": "stream",
     "text": [
      "Not Leap Year\n"
     ]
    }
   ],
   "source": [
    "x5=int(input(\"Enter Year:\"))\n",
    "if(x5%4==0 and x5%100!=0 or x5%100==0 ):\n",
    "    print(\"Leap year:\")\n",
    "else:\n",
    "    print(\"Not Leap Year\")\n",
    "\n"
   ]
  },
  {
   "cell_type": "markdown",
   "metadata": {},
   "source": [
    "### 06) WAP in python to display the name of the day according to the number given by the user."
   ]
  },
  {
   "cell_type": "code",
   "execution_count": 46,
   "metadata": {},
   "outputs": [
    {
     "name": "stdin",
     "output_type": "stream",
     "text": [
      "Enter Number: 4\n"
     ]
    },
    {
     "name": "stdout",
     "output_type": "stream",
     "text": [
      "Thursday\n"
     ]
    }
   ],
   "source": [
    "x6=int(input(\"Enter Number:\"))\n",
    "n6=x6%7\n",
    "match n6:\n",
    "    case 0:\n",
    "        print(\"Sunday\")\n",
    "    case 1:\n",
    "        print(\"Monday\")\n",
    "    case 2:\n",
    "        print(\"Tuesday\")\n",
    "    case 3:\n",
    "        print(\"Wednesday\")\n",
    "    case 4:\n",
    "        print(\"Thursday\")\n",
    "    case 5:\n",
    "        print(\"Friday\")\n",
    "    case 6:\n",
    "        print(\"Saturday\")\n",
    "    case _:\n",
    "        print(\"invalid Number:\")"
   ]
  },
  {
   "cell_type": "markdown",
   "metadata": {},
   "source": [
    "### 07) WAP to implement simple calculator which performs (add,sub,mul,div) of two no. based on user input."
   ]
  },
  {
   "cell_type": "code",
   "execution_count": 48,
   "metadata": {},
   "outputs": [
    {
     "name": "stdin",
     "output_type": "stream",
     "text": [
      "Enter Number: 4\n",
      "Enter Number: 2\n",
      "Enter press for +,-,*,/ -\n"
     ]
    },
    {
     "name": "stdout",
     "output_type": "stream",
     "text": [
      "sub is 2\n"
     ]
    }
   ],
   "source": [
    "x7=int(input(\"Enter Number:\"))\n",
    "y7=int(input(\"Enter Number:\"))\n",
    "\n",
    "c=input(\"Enter press for +,-,*,/\")\n",
    "match c:\n",
    "    case '+':\n",
    "        sum=x7+y7\n",
    "        print(\"sum is\",sum)\n",
    "    case '-':\n",
    "        sub=x7-y7\n",
    "        print(\"sub is\",sub)\n",
    "    case '*':\n",
    "        mul=x7*y7\n",
    "        print(\"mul is\",mul)\n",
    "    case '/':\n",
    "        div=x7/y7\n",
    "        print(\"div is\",div)\n",
    "\n",
    "\n",
    "\n"
   ]
  },
  {
   "cell_type": "markdown",
   "metadata": {},
   "source": [
    "### 08) WAP to read marks of five subjects. Calculate percentage and print class accordingly. \n",
    "Fail below 35 </br>\n",
    "Pass Class between 35 to 45 </br>\n",
    "Second Class</br>\n",
    "between 45 to 60</br>\n",
    "First Class between 60 to 70</br> \n",
    "Distinction if more than 70"
   ]
  },
  {
   "cell_type": "code",
   "execution_count": 58,
   "metadata": {},
   "outputs": [
    {
     "name": "stdin",
     "output_type": "stream",
     "text": [
      "Enter Mark for Student 50\n",
      "Enter Mark for Student 50\n",
      "Enter Mark for Student 50\n",
      "Enter Mark for Student 50\n",
      "Enter Mark for Student 50\n"
     ]
    },
    {
     "name": "stdout",
     "output_type": "stream",
     "text": [
      "Sewcond class\n",
      "Percentage 50.0\n"
     ]
    }
   ],
   "source": [
    "li = []\n",
    "sum=0;\n",
    "for i in range(0,5):\n",
    "    li.append(int(input(\"Enter Mark for Student\")))\n",
    "    sum=sum+li[i];\n",
    "\n",
    "per=(sum*100)/500\n",
    "if(per<35):\n",
    "    print(\"Fail Student:\")\n",
    "elif(per>35 and per<45):\n",
    "    print(\"Pass class\")\n",
    "elif(per>45 and per<60):\n",
    "    print(\"Sewcond class\")\n",
    "elif(per>60 and per<70):\n",
    "    print(\"First class\")\n",
    "else:\n",
    "    print(\"Distinction\")\n",
    "print(\"Percentage\",per)\n"
   ]
  },
  {
   "cell_type": "markdown",
   "metadata": {},
   "source": [
    "### 09) Three sides of a triangle are entered through the keyboard, WAP to check whether the triangle is isosceles, equilateral, scalene or right-angled triangle."
   ]
  },
  {
   "cell_type": "code",
   "execution_count": 3,
   "metadata": {},
   "outputs": [
    {
     "name": "stdin",
     "output_type": "stream",
     "text": [
      "Enter Side 1 3\n",
      "Enter Side 2 4\n",
      "Enter Side 3 5\n"
     ]
    },
    {
     "name": "stdout",
     "output_type": "stream",
     "text": [
      "Rightangle Triangle\n"
     ]
    }
   ],
   "source": [
    "import math\n",
    "\n",
    "\n",
    "x9=float(input(\"Enter Side 1\"))\n",
    "y9=float(input(\"Enter Side 2\"))\n",
    "z9= float(input(\"Enter Side 3\"))\n",
    "\n",
    "if(x9==y9 and x9==z9 and y9==z9):\n",
    "    print(\"Equilateral Triangle:\")\n",
    "elif(x9==y9 or y9==z9 or x9==z9):\n",
    "    print(\"Isosceles Triangle: \")\n",
    "elif(x9**2+y9**2 == z9**2 or x9**2+z9**2==y9**2 or z9**2+y9**2==x9**2):\n",
    "    print(\"Rightangle Triangle\")\n",
    "else:\n",
    "    print(\"scalene Triangle:\")\n",
    "\n"
   ]
  },
  {
   "cell_type": "markdown",
   "metadata": {},
   "source": [
    "### 10) WAP to find the second largest number among three user input numbers."
   ]
  },
  {
   "cell_type": "code",
   "execution_count": 21,
   "metadata": {},
   "outputs": [
    {
     "name": "stdin",
     "output_type": "stream",
     "text": [
      "Enter Number 1 10\n",
      "Enter Number 2 02\n",
      "Enter Number 3 36\n"
     ]
    },
    {
     "name": "stdout",
     "output_type": "stream",
     "text": [
      "First Number is second Large 10\n"
     ]
    }
   ],
   "source": [
    "x10=int(input(\"Enter Number 1\"))\n",
    "y10=int(input(\"Enter Number 2\"))\n",
    "z10= int(input(\"Enter Number 3\"))\n",
    "\n",
    "if(x10>y10 and x10>z10):\n",
    "    if(y10>z10):\n",
    "        print(\"Second Number is second Large\",y10)\n",
    "    else:\n",
    "        print(\"Third Number is second Large\",z10)\n",
    "elif(y10>x10 and y10>z10):\n",
    "    if(x10>z10):\n",
    "        print(\"First Number is second Large\",x10)\n",
    "    else:\n",
    "        print(\"Third Number is second Large\",z10)\n",
    "else:\n",
    "    if(x10>y10):\n",
    "        print(\"First Number is second Large\",x10)\n",
    "    else:\n",
    "        print(\"Second Number is second Large\",y10)\n",
    "\n"
   ]
  },
  {
   "cell_type": "markdown",
   "metadata": {},
   "source": [
    "### 11) WAP to calculate electricity bill based on following criteria. Which takes the unit from the user.\n",
    "a. First 1 to 50 units – Rs. 2.60/unit</br>\n",
    "b. Next 50 to 100 units – Rs. 3.25/unit</br>\n",
    "c. Next 100 to 200 units – Rs. 5.26/unit</br>\n",
    "d. above 200 units – Rs. 8.45/unit"
   ]
  },
  {
   "cell_type": "code",
   "execution_count": 23,
   "metadata": {},
   "outputs": [
    {
     "name": "stdin",
     "output_type": "stream",
     "text": [
      "Enter Unit of electricity bill 125\n"
     ]
    },
    {
     "name": "stdout",
     "output_type": "stream",
     "text": [
      "Bill is: 424.0\n"
     ]
    }
   ],
   "source": [
    "x11=int(input(\"Enter Unit of electricity bill\"))\n",
    "\n",
    "bill=0.00\n",
    "if(x11<=50):\n",
    "    bill=x11*2.60\n",
    "    print(\"Bill is:\",bill)\n",
    "elif(x11>50 and x11<=100):\n",
    "    x11=x11-50\n",
    "    bill=(50*2.60)+(x11*3.25)\n",
    "    print(\"Bill is:\",bill)\n",
    "elif(x11>100 and x11<=200):\n",
    "    x11=x11-100\n",
    "    bill=(50*2.60)+(50*3.25)+(x11*5.26)\n",
    "    print(\"Bill is:\",bill)\n",
    "elif(x11>200):\n",
    "    x11=x11-200\n",
    "    bill=(50*2.60)+(50*3.25)+(100*5.26)+(x11*8.45)"
   ]
  },
  {
   "cell_type": "code",
   "execution_count": null,
   "metadata": {},
   "outputs": [],
   "source": []
  }
 ],
 "metadata": {
  "kernelspec": {
   "display_name": "Python 3 (ipykernel)",
   "language": "python",
   "name": "python3"
  },
  "language_info": {
   "codemirror_mode": {
    "name": "ipython",
    "version": 3
   },
   "file_extension": ".py",
   "mimetype": "text/x-python",
   "name": "python",
   "nbconvert_exporter": "python",
   "pygments_lexer": "ipython3",
   "version": "3.12.7"
  }
 },
 "nbformat": 4,
 "nbformat_minor": 4
}
