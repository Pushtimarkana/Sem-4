{
 "cells": [
  {
   "cell_type": "markdown",
   "metadata": {},
   "source": [
    "<a href='https://www.darshan.ac.in/'> <img src='https://www.darshan.ac.in/Content/media/DU_Logo.svg' width=\"250\" height=\"300\"/></a>\n",
    "<pre>\n",
    "<center><b><h1>Python Programming - 2301CS404</b></center>\n",
    "<center><b><h1>Lab - 7</b></center>  \n",
    "    <centetr>Pushti Markana || 23010101160</centetr>\n",
    "<pre>"
   ]
  },
  {
   "cell_type": "markdown",
   "metadata": {},
   "source": [
    "# Set & Dictionary"
   ]
  },
  {
   "cell_type": "markdown",
   "metadata": {},
   "source": [
    "### 01) WAP to iterate over a set."
   ]
  },
  {
   "cell_type": "code",
   "execution_count": 4,
   "metadata": {},
   "outputs": [
    {
     "name": "stdin",
     "output_type": "stream",
     "text": [
      "Enter range name 6\n",
      "Enter element 12\n",
      "Enter element 3\n",
      "Enter element 5\n",
      "Enter element 6\n",
      "Enter element 4\n",
      "Enter element 2\n"
     ]
    },
    {
     "name": "stdout",
     "output_type": "stream",
     "text": [
      "{2, 3, 4, 5, 6, 12}\n"
     ]
    }
   ],
   "source": [
    "s1= set()\n",
    "n = int(input(\"Enter range name\"))\n",
    "\n",
    "for i in range(n):\n",
    "    s1.add(int(input(\"Enter element\")))\n",
    "\n",
    "print(s1)\n",
    "             "
   ]
  },
  {
   "cell_type": "markdown",
   "metadata": {},
   "source": [
    "### 02) WAP to convert set into list, string and tuple."
   ]
  },
  {
   "cell_type": "code",
   "execution_count": 28,
   "metadata": {},
   "outputs": [
    {
     "name": "stdin",
     "output_type": "stream",
     "text": [
      "Enter range name 3\n",
      "Enter element 1\n",
      "Enter element 2\n",
      "Enter element 3\n"
     ]
    },
    {
     "name": "stdout",
     "output_type": "stream",
     "text": [
      "{'3', '2', '1'}\n",
      "{'3', '2', '1'}\n",
      "3, 2, 1\n"
     ]
    }
   ],
   "source": [
    "s2= set()\n",
    "n2 = int(input(\"Enter range name\"))\n",
    "\n",
    "for i in range(n2):\n",
    "    s2.add(input(\"Enter element\"))\n",
    "\n",
    "print(s2)\n",
    "li2=(list(s2))\n",
    "t2=(tuple(s2))\n",
    "print(s2)\n",
    "s=', '.join(s2)\n",
    "print(s)\n",
    "\n"
   ]
  },
  {
   "cell_type": "markdown",
   "metadata": {},
   "source": [
    "### 03) WAP to find Maximum and Minimum from a set."
   ]
  },
  {
   "cell_type": "code",
   "execution_count": 44,
   "metadata": {},
   "outputs": [
    {
     "name": "stdin",
     "output_type": "stream",
     "text": [
      "Enter range name 5\n",
      "Enter element 1\n",
      "Enter element 2\n",
      "Enter element 6\n",
      "Enter element 9\n",
      "Enter element 7\n"
     ]
    },
    {
     "name": "stdout",
     "output_type": "stream",
     "text": [
      "1 min\n",
      "9 max\n",
      "1 9\n"
     ]
    }
   ],
   "source": [
    "s3= set()\n",
    "n3 = int(input(\"Enter range name\"))\n",
    "\n",
    "for i in range(n3):\n",
    "    s3.add(input(\"Enter element\"))\n",
    "\n",
    "li3=list(s3)\n",
    "li3.sort()\n",
    "print(li3[0],\"min\")\n",
    "print(li3[n3-1],\"max\")\n",
    "\n",
    "\n",
    "min=li3[0]\n",
    "max=li3[0]\n",
    "for i in li3:\n",
    "    if(min>i):\n",
    "        min=i\n",
    "    if(max<i):\n",
    "        max=i\n",
    "print(min,max)\n",
    "    "
   ]
  },
  {
   "cell_type": "markdown",
   "metadata": {},
   "source": [
    "### 04) WAP to perform union of two sets."
   ]
  },
  {
   "cell_type": "code",
   "execution_count": 40,
   "metadata": {},
   "outputs": [
    {
     "name": "stdin",
     "output_type": "stream",
     "text": [
      "Enter number 3\n",
      "Enter element set1 1\n",
      "Enter element set1 2\n",
      "Enter element set1 3\n",
      "Enter element set2 5\n",
      "Enter element set2 67\n",
      "Enter element set2 5\n"
     ]
    },
    {
     "name": "stdout",
     "output_type": "stream",
     "text": [
      "{'3', '67', '5', '2', '1'}\n"
     ]
    }
   ],
   "source": [
    "set4= set()\n",
    "s4 = set()\n",
    "n4 = int(input(\"Enter number\"))\n",
    "\n",
    "for i in range(n4):\n",
    "    set4.add(input(\"Enter element set1\"))\n",
    "\n",
    "for i in range(n4):\n",
    "    s4.add(input(\"Enter element set2\"))\n",
    "\n",
    "print(set4 | s4)\n"
   ]
  },
  {
   "cell_type": "markdown",
   "metadata": {},
   "source": [
    "### 05) WAP to check if two lists have at-least one element common."
   ]
  },
  {
   "cell_type": "code",
   "execution_count": 42,
   "metadata": {},
   "outputs": [
    {
     "name": "stdin",
     "output_type": "stream",
     "text": [
      "Enter element 3\n",
      "Enter element 1\n",
      "Enter element 2\n",
      "Enter element 3\n",
      "Enter element 5\n",
      "Enter element 6\n",
      "Enter element 2\n"
     ]
    },
    {
     "name": "stdout",
     "output_type": "stream",
     "text": [
      "True\n"
     ]
    }
   ],
   "source": [
    "list5=[]\n",
    "li5=[]\n",
    "n5= int(input(\"Enter element\"))\n",
    "\n",
    "for i in range (n5):\n",
    "    list5.append(input(\"Enter element\"))\n",
    "\n",
    "for i in range (n5):\n",
    "    li5.append(input(\"Enter element\"))   \n",
    "\n",
    "s5=set(list5) & set(li5)\n",
    "if(len(s5)!=0):\n",
    "    print(\"True\")\n",
    "else:\n",
    "    print(\"False\")"
   ]
  },
  {
   "cell_type": "markdown",
   "metadata": {},
   "source": [
    "### 06) WAP to remove duplicates from list."
   ]
  },
  {
   "cell_type": "code",
   "execution_count": 46,
   "metadata": {},
   "outputs": [
    {
     "name": "stdin",
     "output_type": "stream",
     "text": [
      "Enter Number 5\n",
      "Enter Element 1\n",
      "Enter Element 2\n",
      "Enter Element 3\n",
      "Enter Element 3\n",
      "Enter Element 2\n"
     ]
    },
    {
     "name": "stdout",
     "output_type": "stream",
     "text": [
      "['1', '2', '3', '3', '2']\n",
      "{'3', '2', '1'}\n"
     ]
    }
   ],
   "source": [
    "list6=[]\n",
    "n6 = int(input(\"Enter Number\"))\n",
    "\n",
    "for i in range(n6):\n",
    "    list6.append(input(\"Enter Element\"))\n",
    "\n",
    "print(list6)\n",
    "print(set(list6))\n",
    "\n"
   ]
  },
  {
   "cell_type": "markdown",
   "metadata": {},
   "source": [
    "### 07) WAP to find unique words in the given string."
   ]
  },
  {
   "cell_type": "code",
   "execution_count": 48,
   "metadata": {},
   "outputs": [
    {
     "name": "stdin",
     "output_type": "stream",
     "text": [
      "Enter String darshabdd\n"
     ]
    },
    {
     "name": "stdout",
     "output_type": "stream",
     "text": [
      "b a r h d s\n"
     ]
    }
   ],
   "source": [
    "str=input(\"Enter String\")\n",
    "\n",
    "s7=set(str)\n",
    "str7=\" \".join(s7)\n",
    "print(str7)"
   ]
  },
  {
   "cell_type": "markdown",
   "metadata": {},
   "source": [
    "### 08) WAP to remove common elements of set A & B from set A."
   ]
  },
  {
   "cell_type": "code",
   "execution_count": 52,
   "metadata": {},
   "outputs": [
    {
     "name": "stdin",
     "output_type": "stream",
     "text": [
      "Enter Number 6\n",
      "Enter element 1\n",
      "Enter element 2\n",
      "Enter element 3\n",
      "Enter element 4\n",
      "Enter element 5\n",
      "Enter element 6\n",
      "Enter element 7\n",
      "Enter element 8\n",
      "Enter element 9\n",
      "Enter element 4\n",
      "Enter element 5\n",
      "Enter element 6\n"
     ]
    },
    {
     "data": {
      "text/plain": [
       "{'1', '2', '3'}"
      ]
     },
     "execution_count": 52,
     "metadata": {},
     "output_type": "execute_result"
    }
   ],
   "source": [
    "setA= set()\n",
    "setB = set()\n",
    "n8 = int(input(\"Enter Number\"))\n",
    "\n",
    "for i in range(n8):\n",
    "    setA.add(input(\"Enter element\"))\n",
    "\n",
    "for i in range(n8):\n",
    "    setB.add(input(\"Enter element\"))\n",
    "\n",
    "setA-(setA & setB)"
   ]
  },
  {
   "cell_type": "markdown",
   "metadata": {},
   "source": [
    "### 09) WAP to check whether two given strings are anagram or not using set."
   ]
  },
  {
   "cell_type": "code",
   "execution_count": 62,
   "metadata": {},
   "outputs": [
    {
     "name": "stdin",
     "output_type": "stream",
     "text": [
      "Enter String pushti\n",
      "Enter second String pusht\n"
     ]
    },
    {
     "name": "stdout",
     "output_type": "stream",
     "text": [
      "False\n"
     ]
    }
   ],
   "source": [
    "str9 = input(\"Enter String\")\n",
    "st9 = input(\"Enter second String\")\n",
    "\n",
    "if(\"\".join(set(str9))== \"\".join(set(st9))):\n",
    "    print(\"True\")\n",
    "\n",
    "else:\n",
    "    print(\"False\")\n"
   ]
  },
  {
   "cell_type": "markdown",
   "metadata": {},
   "source": [
    "### 10) WAP to find common elements in three lists using set."
   ]
  },
  {
   "cell_type": "code",
   "execution_count": 66,
   "metadata": {},
   "outputs": [
    {
     "name": "stdin",
     "output_type": "stream",
     "text": [
      "Enter element 5\n",
      "Enter element 1\n",
      "Enter element 2\n",
      "Enter element 3\n",
      "Enter element 4\n",
      "Enter element 5\n",
      "Enter element 4\n",
      "Enter element 5\n",
      "Enter element 6\n",
      "Enter element 7\n",
      "Enter element 8\n",
      "Enter element 1\n",
      "Enter element 2\n",
      "Enter element 7\n",
      "Enter element 8\n",
      "Enter element 4\n"
     ]
    },
    {
     "data": {
      "text/plain": [
       "{'4'}"
      ]
     },
     "execution_count": 66,
     "metadata": {},
     "output_type": "execute_result"
    }
   ],
   "source": [
    "list10=[]\n",
    "li10=[]\n",
    "l10=[]\n",
    "n10= int(input(\"Enter element\"))\n",
    "\n",
    "for i in range (n10):\n",
    "    list10.append(input(\"Enter element\"))\n",
    "\n",
    "for i in range (n10):\n",
    "    li10.append(input(\"Enter element\"))  \n",
    "\n",
    "for i in range (n10):\n",
    "    l10.append(input(\"Enter element\")) \n",
    "\n",
    "set(list10) & set(li10) & set(l10)"
   ]
  },
  {
   "cell_type": "markdown",
   "metadata": {},
   "source": [
    "### 11) WAP to count number of vowels in given string using set."
   ]
  },
  {
   "cell_type": "code",
   "execution_count": 7,
   "metadata": {},
   "outputs": [
    {
     "name": "stdin",
     "output_type": "stream",
     "text": [
      "Enter String PUshti\n"
     ]
    },
    {
     "name": "stdout",
     "output_type": "stream",
     "text": [
      "{'s', 'U', 't', 'h', 'i', 'P'}\n",
      "Vowel count 2\n"
     ]
    }
   ],
   "source": [
    "str11 = input(\"Enter String\")\n",
    "s11= set(str11)\n",
    "\n",
    "count=0\n",
    "# for i in s11:\n",
    "#     if(i=='a' or i=='e' or i=='i' or i=='o' or i=='u'):\n",
    "#        count+=1 \n",
    "\n",
    "vowel = set('aeiouAEIOU')\n",
    "for i in str11:\n",
    "    if i in vowel:\n",
    "        count+=1\n",
    "\n",
    "print(s11)\n",
    "print(\"Vowel count\",count)"
   ]
  },
  {
   "cell_type": "markdown",
   "metadata": {},
   "source": [
    "### 12) WAP to check if a given string is binary string or not."
   ]
  },
  {
   "cell_type": "code",
   "execution_count": 15,
   "metadata": {},
   "outputs": [
    {
     "name": "stdin",
     "output_type": "stream",
     "text": [
      "Enter String 12301010\n"
     ]
    },
    {
     "name": "stdout",
     "output_type": "stream",
     "text": [
      "The string is not a binary string.\n"
     ]
    }
   ],
   "source": [
    "str12 = input(\"Enter String\")\n",
    "if all(i in '01' for i in str12):\n",
    "    print(\"The string is a binary string.\")\n",
    "else:\n",
    "    print(\"The string is not a binary string.\")"
   ]
  },
  {
   "cell_type": "markdown",
   "metadata": {},
   "source": [
    "### 13) WAP to sort dictionary by key or value."
   ]
  },
  {
   "cell_type": "code",
   "execution_count": 31,
   "metadata": {},
   "outputs": [
    {
     "name": "stdout",
     "output_type": "stream",
     "text": [
      "{101: 'x', 102: 'a', 103: 'h', 104: 'c', 105: 'b'}\n",
      "{102: 'a', 105: 'b', 104: 'c', 103: 'h', 101: 'x'}\n"
     ]
    }
   ],
   "source": [
    "# sort by key\n",
    "d13={102:\"a\",101:\"x\",105:\"b\",104:'c',103:\"h\"}\n",
    "dic13=dict(sorted(d13.items()))\n",
    "print(dic13)\n",
    "\n",
    "# sort by value\n",
    "dict13=dict(sorted(d13.items(), key=lambda item: item[1]))\n",
    "print(dict13)"
   ]
  },
  {
   "cell_type": "markdown",
   "metadata": {},
   "source": [
    "### 14) WAP to find the sum of all items (values) in a dictionary given by user. (Assume: values are numeric)"
   ]
  },
  {
   "cell_type": "code",
   "execution_count": 33,
   "metadata": {},
   "outputs": [
    {
     "name": "stdin",
     "output_type": "stream",
     "text": [
      "Enter size of dictonary 5\n",
      "Enter key in int 1\n",
      "Enter value in int 1\n",
      "Enter key in int 102\n",
      "Enter value in int 2\n",
      "Enter key in int 103\n",
      "Enter value in int 3\n",
      "Enter key in int 104\n",
      "Enter value in int 4\n",
      "Enter key in int 105\n",
      "Enter value in int 5\n"
     ]
    },
    {
     "name": "stdout",
     "output_type": "stream",
     "text": [
      "15\n"
     ]
    }
   ],
   "source": [
    "n14 = int(input(\"Enter size of dictonary\"))\n",
    "d14 = {}\n",
    "for i in range(n14):\n",
    "    key= int(input(\"Enter key in int\"))\n",
    "    value= int(input(\"Enter value in int\"))\n",
    "    d14[key]=value\n",
    "\n",
    "sum=0\n",
    "for i in d14.keys():\n",
    "    sum+=d14[i]\n",
    "\n",
    "print(sum)"
   ]
  },
  {
   "cell_type": "markdown",
   "metadata": {},
   "source": [
    "### 15) WAP to handle missing keys in dictionaries.\n",
    "#### Example : Given, dict1 = {'a': 5, 'c': 8, 'e': 2} \n",
    "#### if you look for key = 'd', the message given should be 'Key Not Found', otherwise print the value of 'd' in dict1."
   ]
  },
  {
   "cell_type": "code",
   "execution_count": 39,
   "metadata": {},
   "outputs": [
    {
     "data": {
      "text/plain": [
       "10"
      ]
     },
     "execution_count": 39,
     "metadata": {},
     "output_type": "execute_result"
    }
   ],
   "source": [
    "dict15 = {'a': 5, 'c': 8, 'e': 2,'d':10}\n",
    "\n",
    "dict15.get('d','Key Not Found')"
   ]
  },
  {
   "cell_type": "code",
   "execution_count": null,
   "metadata": {},
   "outputs": [],
   "source": []
  }
 ],
 "metadata": {
  "kernelspec": {
   "display_name": "Python 3 (ipykernel)",
   "language": "python",
   "name": "python3"
  },
  "language_info": {
   "codemirror_mode": {
    "name": "ipython",
    "version": 3
   },
   "file_extension": ".py",
   "mimetype": "text/x-python",
   "name": "python",
   "nbconvert_exporter": "python",
   "pygments_lexer": "ipython3",
   "version": "3.12.7"
  }
 },
 "nbformat": 4,
 "nbformat_minor": 4
}
