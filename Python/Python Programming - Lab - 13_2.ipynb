{
 "cells": [
  {
   "cell_type": "markdown",
   "metadata": {},
   "source": [
    "<a href='https://www.darshan.ac.in/'> <img src='https://www.darshan.ac.in/Content/media/DU_Logo.svg' width=\"250\" height=\"300\"/></a>\n",
    "<pre>\n",
    "<center><b><h1>Python Programming - 2301CS404</b></center>\n",
    "<center><b><h1>Lab - 13</b></center>  \n",
    "    <center>Pushti Markana || 23010101160</center>\n",
    "<pre>"
   ]
  },
  {
   "cell_type": "markdown",
   "metadata": {},
   "source": [
    "## Continued.."
   ]
  },
  {
   "cell_type": "markdown",
   "metadata": {},
   "source": [
    "### 10) Calculate area of a ractangle using object as an argument to a method."
   ]
  },
  {
   "cell_type": "code",
   "execution_count": 5,
   "metadata": {},
   "outputs": [
    {
     "name": "stdout",
     "output_type": "stream",
     "text": [
      "Area of Ractangle: 110\n"
     ]
    }
   ],
   "source": [
    "class Ractangle:\n",
    "    def __init__(self,len,wid):\n",
    "        self.length=len\n",
    "        self.width=wid\n",
    "    def area(self):\n",
    "        return self.length* self.width\n",
    "\n",
    "r=Ractangle(10,11)\n",
    "area=r.area()\n",
    "print(\"Area of Ractangle:\",area)"
   ]
  },
  {
   "cell_type": "markdown",
   "metadata": {},
   "source": [
    "### 11) Calculate the area of a square. \n",
    "### Include a Constructor, a method to calculate area named area() and a method named output() that prints the output and is invoked by area()."
   ]
  },
  {
   "cell_type": "code",
   "execution_count": 11,
   "metadata": {},
   "outputs": [
    {
     "name": "stdout",
     "output_type": "stream",
     "text": [
      "Area of Square: 100\n"
     ]
    }
   ],
   "source": [
    "class Square:\n",
    "    def __init__(self,len):\n",
    "        self.length=len\n",
    "\n",
    "    def  area(self):\n",
    "        return self.length**2\n",
    "\n",
    "    def output(self):\n",
    "        area=self.area()\n",
    "        print(\"Area of Square:\",area)\n",
    "\n",
    "s=Square(10)\n",
    "s.output()"
   ]
  },
  {
   "cell_type": "markdown",
   "metadata": {},
   "source": [
    "### 12) Calculate the area of a rectangle. \n",
    "### Include a Constructor, a method to calculate area named area() and a method named output() that prints the output and is invoked by area().\n",
    "### Also define a class method that compares the two sides of reactangle. An object is instantiated only if the two sides are different; otherwise a message should be displayed : THIS IS SQUARE."
   ]
  },
  {
   "cell_type": "code",
   "execution_count": 21,
   "metadata": {},
   "outputs": [
    {
     "name": "stdout",
     "output_type": "stream",
     "text": [
      "This is square\n"
     ]
    }
   ],
   "source": [
    "class Ractangle:\n",
    "    def __init__(self,len,wid):\n",
    "        self.length=len\n",
    "        self.width=wid\n",
    "    @classmethod\n",
    "    def check(self,l,w):\n",
    "        if l==w:\n",
    "            print(\"This is square\")\n",
    "            return None\n",
    "        else:\n",
    "            return Ractangle(l,w)\n",
    "    def area(self):\n",
    "        return self.length* self.width\n",
    "    def output(self):\n",
    "        area= self.area()\n",
    "        print(\"Area of Ractangle:\",area)\n",
    "        \n",
    "r=Ractangle.check(10,10)\n",
    "if r:\n",
    "    r.output()\n"
   ]
  },
  {
   "cell_type": "markdown",
   "metadata": {},
   "source": [
    "### 13) Define a class Square having a private attribute \"side\". \n",
    "### Implement get_side and set_side methods to accees the private attribute from outside of the class."
   ]
  },
  {
   "cell_type": "code",
   "execution_count": 29,
   "metadata": {},
   "outputs": [
    {
     "name": "stdout",
     "output_type": "stream",
     "text": [
      "Side of square: 10\n",
      "Side of Square setSide 3\n",
      "Side must be positive\n"
     ]
    }
   ],
   "source": [
    "class Square:\n",
    "    def __init__(self,side):\n",
    "        self.__side=side\n",
    "\n",
    "    def getSide(self):\n",
    "        return self.__side\n",
    "    def setSide(self,side):\n",
    "        if side<0:\n",
    "            print(\"Side must be positive\")\n",
    "        else:\n",
    "            self.__side=side\n",
    "\n",
    "s=Square(10)\n",
    "print(\"Side of square:\",s.getSide())\n",
    "s.setSide(3)\n",
    "print(\"Side of Square setSide\",s.getSide())\n",
    "s.setSide(-3)"
   ]
  },
  {
   "cell_type": "markdown",
   "metadata": {},
   "source": [
    "### 14) Create a class Profit that has a method named getProfit that accepts profit from the user.\n",
    "### Create a class Loss that has a method named getLoss that accepts loss from the user.\n",
    "### Create a class BalanceSheet that inherits from both classes Profit and Loss and calculates the balanace. It has two methods getBalance() and printBalance()."
   ]
  },
  {
   "cell_type": "code",
   "execution_count": 43,
   "metadata": {},
   "outputs": [
    {
     "name": "stdin",
     "output_type": "stream",
     "text": [
      "Enter profit 100\n",
      "Enter loss 50\n"
     ]
    },
    {
     "name": "stdout",
     "output_type": "stream",
     "text": [
      "100.0\n"
     ]
    }
   ],
   "source": [
    "class Profit:\n",
    "    def __init__(self):\n",
    "        self.profit=0\n",
    "\n",
    "    def getProfit(self):\n",
    "        self.profit=float(input(\"Enter profit\"))\n",
    "\n",
    "class Loss:\n",
    "    def __init__(self):\n",
    "        self.loss=0\n",
    "\n",
    "    def getLoss(self):\n",
    "        self.loss=float(input(\"Enter loss\"))\n",
    "\n",
    "class BalanceSheet(Profit,Loss):\n",
    "    def __init__(self):\n",
    "        super().__init__()\n",
    "        Loss().__init__()\n",
    "\n",
    "    def getBalance(self):\n",
    "        self.printBalance(self.profit,self.loss)\n",
    "    def printBalance(self,b,c):\n",
    "        print(b)\n",
    "        print(c)\n",
    "\n",
    "b= BalanceSheet()\n",
    "b.getProfit()\n",
    "b.getLoss()\n",
    "b.getBalance()"
   ]
  },
  {
   "attachments": {},
   "cell_type": "markdown",
   "metadata": {},
   "source": [
    "### 15) WAP to demonstrate all types of inheritance."
   ]
  },
  {
   "cell_type": "code",
   "execution_count": 47,
   "metadata": {},
   "outputs": [
    {
     "name": "stdout",
     "output_type": "stream",
     "text": [
      "Parent class\n",
      "Child Class\n",
      "Parent class\n",
      "Child Class\n",
      "second child\n"
     ]
    }
   ],
   "source": [
    "class Parent:\n",
    "    def first(self):\n",
    "        print(\"Parent class\")\n",
    "\n",
    "class Child(Parent):\n",
    "    def second(self):\n",
    "        print(\"Child Class\")\n",
    "\n",
    "c=Child()\n",
    "c.first()\n",
    "c.second()\n",
    "\n",
    "class SecChild(Child):\n",
    "    def third(self):\n",
    "        print(\"second child\")\n",
    "\n",
    "sc=SecChild()\n",
    "sc.first()\n",
    "sc.second()\n",
    "sc.third()"
   ]
  },
  {
   "cell_type": "markdown",
   "metadata": {},
   "source": [
    "### 16) Create a Person class with a constructor that takes two arguments name and age. \n",
    "### Create a child class Employee that inherits from Person and adds a new attribute salary. \n",
    "### Override the __init__ method in Employee to call the parent class's __init__ method using the super() and then initialize the salary attribute."
   ]
  },
  {
   "cell_type": "code",
   "execution_count": 3,
   "metadata": {},
   "outputs": [
    {
     "name": "stdout",
     "output_type": "stream",
     "text": [
      "pushti\n",
      "19\n",
      "50000\n"
     ]
    }
   ],
   "source": [
    "class Person():\n",
    "    def __init__(self,name,age):\n",
    "        self.name=name\n",
    "        self.age=age\n",
    "\n",
    "\n",
    "class Employee(Person):\n",
    "    def __init__(self,name,age,sal):\n",
    "        super().__init__(name,age)\n",
    "        self.sal=sal\n",
    "    def display(self):\n",
    "        print(\"Name is\",self.name)\n",
    "        print(\"Age is\",self.age)\n",
    "        print(\"Salary is\",self.sal)\n",
    "\n",
    "e=Employee(\"pushti\",19,50000)\n",
    "e.display()"
   ]
  },
  {
   "cell_type": "markdown",
   "metadata": {},
   "source": [
    "### 17) Create a Shape class with a draw method that is not implemented. \n",
    "### Create three child classes Rectangle, Circle, and Triangle that implement the draw method with their respective drawing behaviors. \n",
    "### Create a list of Shape objects that includes one instance of each child class, and then iterate through the list and call the draw method on each object."
   ]
  },
  {
   "cell_type": "code",
   "execution_count": 9,
   "metadata": {},
   "outputs": [
    {
     "name": "stdout",
     "output_type": "stream",
     "text": [
      "Ranctangle class\n",
      "Circle class\n",
      "Traiangle class\n"
     ]
    }
   ],
   "source": [
    "from abc import ABC ,abstractmethod\n",
    "class Shap(ABC):\n",
    "    @abstractmethod\n",
    "    def draw(self):\n",
    "        pass\n",
    "\n",
    "class Rectangle(Shap):\n",
    "    def draw(self):\n",
    "       print(\"Ranctangle class\") \n",
    "\n",
    "class Circle(Shap):\n",
    "    def draw(self):\n",
    "        print(\"Circle class\")\n",
    "\n",
    "class Triangle(Shap):\n",
    "    def draw(self):\n",
    "        print(\"Traiangle class\")\n",
    "\n",
    "shapes = [Rectangle(), Circle(), Triangle()]\n",
    "for shape in shapes:\n",
    "    shape.draw()"
   ]
  },
  {
   "cell_type": "code",
   "execution_count": null,
   "metadata": {},
   "outputs": [],
   "source": []
  }
 ],
 "metadata": {
  "kernelspec": {
   "display_name": "Python 3 (ipykernel)",
   "language": "python",
   "name": "python3"
  },
  "language_info": {
   "codemirror_mode": {
    "name": "ipython",
    "version": 3
   },
   "file_extension": ".py",
   "mimetype": "text/x-python",
   "name": "python",
   "nbconvert_exporter": "python",
   "pygments_lexer": "ipython3",
   "version": "3.12.7"
  }
 },
 "nbformat": 4,
 "nbformat_minor": 4
}
