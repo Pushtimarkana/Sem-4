{
 "cells": [
  {
   "cell_type": "markdown",
   "metadata": {},
   "source": [
    "<a href='https://www.darshan.ac.in/'> <img src='https://www.darshan.ac.in/Content/media/DU_Logo.svg' width=\"250\" height=\"300\"/></a>\n",
    "<pre>\n",
    "<center><b><h1>Python Programming - 2301CS404</b></center>\n",
    "<center><b><h1>Lab - 8</b></center> \n",
    "    <center>Markana Pushti | 23010101160</center>\n",
    "<pre>"
   ]
  },
  {
   "cell_type": "markdown",
   "metadata": {},
   "source": [
    "# User Defined Function"
   ]
  },
  {
   "cell_type": "markdown",
   "metadata": {},
   "source": [
    "### 01) Write a function to calculate BMI given mass and height. (BMI = mass/h**2)"
   ]
  },
  {
   "cell_type": "code",
   "execution_count": 11,
   "metadata": {},
   "outputs": [
    {
     "name": "stdin",
     "output_type": "stream",
     "text": [
      "Enter height 5\n",
      "Enter mass 50\n"
     ]
    },
    {
     "name": "stdout",
     "output_type": "stream",
     "text": [
      "2.0\n"
     ]
    }
   ],
   "source": [
    "def BMI(h1,m1):\n",
    "    bmi1=(m1/h1**2)\n",
    "    return bmi1\n",
    "    \n",
    "h1=int(input(\"Enter height\"))\n",
    "m1=int(input(\"Enter mass\"))\n",
    "\n",
    "ans=BMI(h1,m1)\n",
    "\n",
    "print(ans)\n"
   ]
  },
  {
   "cell_type": "markdown",
   "metadata": {},
   "source": [
    "### 02) Write a function that add first n numbers."
   ]
  },
  {
   "cell_type": "code",
   "execution_count": 47,
   "metadata": {},
   "outputs": [
    {
     "name": "stdin",
     "output_type": "stream",
     "text": [
      "Enter number: 3\n"
     ]
    },
    {
     "name": "stdout",
     "output_type": "stream",
     "text": [
      "6\n"
     ]
    }
   ],
   "source": [
    "n2=int(input(\"Enter number:\"))\n",
    "\n",
    "def ADD(n2):\n",
    "    sum=0\n",
    "    for i in range(n2+1):\n",
    "        sum=sum+i\n",
    "    return sum\n",
    "\n",
    "ans2=ADD(n2)\n",
    "print(ans2)"
   ]
  },
  {
   "cell_type": "markdown",
   "metadata": {},
   "source": [
    "### 03) Write a function that returns 1 if the given number is Prime or 0 otherwise."
   ]
  },
  {
   "cell_type": "code",
   "execution_count": 61,
   "metadata": {},
   "outputs": [
    {
     "name": "stdin",
     "output_type": "stream",
     "text": [
      "Enter Number 5\n"
     ]
    },
    {
     "name": "stdout",
     "output_type": "stream",
     "text": [
      "1 prime\n"
     ]
    }
   ],
   "source": [
    "n3=int(input(\"Enter Number\"))\n",
    "\n",
    "def Prime(n3):\n",
    "    flag=1\n",
    "    for i in range(2,n3//2):\n",
    "        if(n3%i==0):\n",
    "            flag=0\n",
    "            break    \n",
    "    return flag\n",
    "\n",
    "ans3= Prime(n3)\n",
    "print(ans3,'prime')"
   ]
  },
  {
   "cell_type": "markdown",
   "metadata": {},
   "source": [
    "### 04) Write a function that returns the list of Prime numbers between given two numbers."
   ]
  },
  {
   "cell_type": "code",
   "execution_count": 82,
   "metadata": {},
   "outputs": [
    {
     "name": "stdin",
     "output_type": "stream",
     "text": [
      "Enter Number 1 2\n",
      "Enter Number 2 20\n"
     ]
    },
    {
     "name": "stdout",
     "output_type": "stream",
     "text": [
      "[2, 3, 5, 7, 11, 13, 17, 19]\n"
     ]
    }
   ],
   "source": [
    "n4=int(input(\"Enter Number 1\"))\n",
    "no4=int(input(\"Enter Number 2\"))\n",
    "\n",
    "def PrimeList(n4,no4):\n",
    "   \n",
    "    li=[]\n",
    "    for i in range(n4,no4+1):\n",
    "        flag=1\n",
    "        for j in range(2,(i//2)+1):\n",
    "            if(i%j==0):\n",
    "                flag=0\n",
    "                break\n",
    "        if(flag==1):\n",
    "            li.append(i)\n",
    "    return li\n",
    "\n",
    "list4=PrimeList(n4,no4)\n",
    "print(list4)"
   ]
  },
  {
   "cell_type": "markdown",
   "metadata": {},
   "source": [
    "### 05) Write a function that returns True if the given string is Palindrome or False otherwise."
   ]
  },
  {
   "cell_type": "code",
   "execution_count": 96,
   "metadata": {},
   "outputs": [
    {
     "name": "stdin",
     "output_type": "stream",
     "text": [
      "Enter String jndbfhdb\n"
     ]
    },
    {
     "name": "stdout",
     "output_type": "stream",
     "text": [
      "False\n"
     ]
    }
   ],
   "source": [
    "str5=input(\"Enter String\")\n",
    "\n",
    "def Palindrome(str):\n",
    "    str5=str\n",
    "    st5=str[::-1]\n",
    "    if(str5==st5):\n",
    "        return True\n",
    "    else:\n",
    "        return False\n",
    "\n",
    "print(Palindrome(str5))"
   ]
  },
  {
   "cell_type": "markdown",
   "metadata": {},
   "source": [
    "### 06) Write a function that returns the sum of all the elements of the list."
   ]
  },
  {
   "cell_type": "code",
   "execution_count": 102,
   "metadata": {},
   "outputs": [
    {
     "name": "stdin",
     "output_type": "stream",
     "text": [
      "Enter Size of List 6\n",
      "Enter Element 2\n",
      "Enter Element 3\n",
      "Enter Element 5\n",
      "Enter Element 5\n",
      "Enter Element 15\n",
      "Enter Element 10\n"
     ]
    },
    {
     "name": "stdout",
     "output_type": "stream",
     "text": [
      "40\n"
     ]
    }
   ],
   "source": [
    "n6=int(input(\"Enter Size of List\"))\n",
    "\n",
    "li6=[]\n",
    "for i in range(n6):\n",
    "    li6.append(int(input(\"Enter Element\")))\n",
    "\n",
    "def Sum(li):\n",
    "    sum=0\n",
    "    for i in li:\n",
    "        sum+=i\n",
    "    return sum\n",
    "\n",
    "print(Sum(li6))"
   ]
  },
  {
   "cell_type": "markdown",
   "metadata": {},
   "source": [
    "### 07) Write a function to calculate the sum of the first element of each tuples inside the list."
   ]
  },
  {
   "cell_type": "code",
   "execution_count": 5,
   "metadata": {},
   "outputs": [
    {
     "name": "stdin",
     "output_type": "stream",
     "text": [
      "Enter size of list: 3\n",
      "Enter size of tuple: 3\n",
      "Enter element: 1\n",
      "Enter element: 2\n",
      "Enter element: 3\n",
      "Enter size of tuple: 3\n",
      "Enter element: 3\n",
      "Enter element: 5\n",
      "Enter element: 7\n",
      "Enter size of tuple: 3\n",
      "Enter element: 8\n",
      "Enter element: 9\n",
      "Enter element: 5\n"
     ]
    },
    {
     "name": "stdout",
     "output_type": "stream",
     "text": [
      "12\n"
     ]
    }
   ],
   "source": [
    "# li7=[(1,2,3),(3,5,7),(8,9,5)]\n",
    "\n",
    "def SumTuple(list):\n",
    "    sum=0\n",
    "    for i in list:\n",
    "        sum+=i[0]\n",
    "    return sum\n",
    "\n",
    "\n",
    "n7= int(input(\"Enter size of list:\"))\n",
    "list7=[]\n",
    "\n",
    "for i in range(n7):\n",
    "    no7=int(input(\"Enter size of tuple:\"))\n",
    "    li7=[]\n",
    "    for i in range(no7):\n",
    "        li7.append(int(input(\"Enter element:\")))\n",
    "                   \n",
    "    list7.append(tuple(li7))\n",
    "\n",
    "print(SumTuple(list7))"
   ]
  },
  {
   "cell_type": "markdown",
   "metadata": {},
   "source": [
    "### 08) Write a recursive function to find nth term of Fibonacci Series."
   ]
  },
  {
   "cell_type": "code",
   "execution_count": 25,
   "metadata": {},
   "outputs": [
    {
     "name": "stdin",
     "output_type": "stream",
     "text": [
      "Enter nth term of fibonacci Series 8\n"
     ]
    },
    {
     "name": "stdout",
     "output_type": "stream",
     "text": [
      "34\n"
     ]
    }
   ],
   "source": [
    "n8=int(input(\"Enter nth term of fibonacci Series\"))\n",
    "\n",
    "def NthTerm(n):\n",
    "    a=0\n",
    "    b=1\n",
    "    nt=0\n",
    "    for i in range(1,n+1):\n",
    "        nt=a+b\n",
    "        a,b=b,nt\n",
    "    return nt\n",
    "\n",
    "print(NthTerm(n8))"
   ]
  },
  {
   "cell_type": "markdown",
   "metadata": {},
   "source": [
    "### 09) Write a function to get the name of the student based on the given rollno.\n",
    "#### Example: Given dict1 = {101:'Ajay', 102:'Rahul', 103:'Jay', 104:'Pooja'} find name of student whose rollno = 103"
   ]
  },
  {
   "cell_type": "code",
   "execution_count": 5,
   "metadata": {},
   "outputs": [
    {
     "name": "stdin",
     "output_type": "stream",
     "text": [
      "Enter size of dictonary 4\n",
      "enter Rollno of student 101\n",
      "Enter Name of Student Ajay\n",
      "enter Rollno of student 102\n",
      "Enter Name of Student Rahul\n",
      "enter Rollno of student 103\n",
      "Enter Name of Student Jay\n",
      "enter Rollno of student 104\n",
      "Enter Name of Student Pooja\n",
      "Enter roll no to find Student 103\n"
     ]
    },
    {
     "name": "stdout",
     "output_type": "stream",
     "text": [
      "Name of Student is : Jay\n"
     ]
    }
   ],
   "source": [
    "def findStudent(d,r):\n",
    "    return d.get(r)\n",
    "\n",
    "\n",
    "n9=int(input(\"Enter size of dictonary\"))\n",
    "d9={}\n",
    "for i in range(n9):\n",
    "    key=int(input(\"enter Rollno of student\"))\n",
    "    value=input(\"Enter Name of Student\")\n",
    "    d9[key]=value\n",
    "roll=int(input(\"Enter roll no to find Student\"))\n",
    "print(\"Name of Student is :\",findStudent(d9,roll))\n",
    "\n"
   ]
  },
  {
   "cell_type": "markdown",
   "metadata": {},
   "source": [
    "### 10) Write a function to get the sum of the scores ending with zero.\n",
    "#### Example : scores = [200, 456, 300, 100, 234, 678] \n",
    "#### Ans = 200 + 300 + 100 = 600"
   ]
  },
  {
   "cell_type": "code",
   "execution_count": 104,
   "metadata": {},
   "outputs": [
    {
     "name": "stdin",
     "output_type": "stream",
     "text": [
      "Enter Number 6\n",
      "Enter Element 200\n",
      "Enter Element 456\n",
      "Enter Element 300\n",
      "Enter Element 100\n",
      "Enter Element 234\n",
      "Enter Element 678\n"
     ]
    },
    {
     "name": "stdout",
     "output_type": "stream",
     "text": [
      "600\n"
     ]
    }
   ],
   "source": [
    "n10= int(input(\"Enter Number\"))\n",
    "li10=[]\n",
    "for i in range(n10):\n",
    "    li10.append(int(input(\"Enter Element\")))\n",
    "def SumEndZero(li):\n",
    "    sum=0\n",
    "    for i in li:\n",
    "        if (i%10==0):\n",
    "            sum+=i\n",
    "    return sum\n",
    "\n",
    "print(SumEndZero(li10))\n"
   ]
  },
  {
   "cell_type": "markdown",
   "metadata": {},
   "source": [
    "### 11) Write a function to invert a given Dictionary.\n",
    "#### hint: keys to values & values to keys\n",
    "#### Before : {'a': 10, 'b':20, 'c':30, 'd':40}\n",
    "#### After : {10:'a', 20:'b', 30:'c', 40:'d'}"
   ]
  },
  {
   "cell_type": "code",
   "execution_count": 9,
   "metadata": {},
   "outputs": [
    {
     "name": "stdin",
     "output_type": "stream",
     "text": [
      "Enter No. 4\n",
      "Enter key in String a\n",
      "Enter value in int 10\n",
      "Enter key in String b\n",
      "Enter value in int 20\n",
      "Enter key in String c\n",
      "Enter value in int 30\n",
      "Enter key in String d\n",
      "Enter value in int 40\n"
     ]
    },
    {
     "name": "stdout",
     "output_type": "stream",
     "text": [
      "Invert dict: {10: 'a', 20: 'b', 30: 'c', 40: 'd'}\n"
     ]
    }
   ],
   "source": [
    "n11=int(input(\"Enter No.\"))\n",
    "\n",
    "d11={}\n",
    "for i in range(n11):\n",
    "    key=input(\"Enter key in String\")\n",
    "    value=int(input(\"Enter value in int\"))\n",
    "    d11[key]=value\n",
    "\n",
    "def dictiInvert(d):\n",
    "    keylist=list(d.keys())\n",
    "    valuelist=list(d.values())\n",
    "    dect11={i:j for i,j in zip(valuelist,keylist)}\n",
    "    return dect11\n",
    "\n",
    "print(\"Invert dict:\",dictiInvert(d11))"
   ]
  },
  {
   "cell_type": "markdown",
   "metadata": {},
   "source": [
    "### 12) Write a function to check whether the given string is Pangram or not.\n",
    "#### hint: Pangram is a string containing all the characters a-z atlest once.\n",
    "#### \"the quick brown fox jumps over the lazy dog\" is a Pangram string."
   ]
  },
  {
   "cell_type": "code",
   "execution_count": 11,
   "metadata": {},
   "outputs": [
    {
     "name": "stdin",
     "output_type": "stream",
     "text": [
      "Enter String : the quick brown fox jumps over the lazy dog\n"
     ]
    },
    {
     "name": "stdout",
     "output_type": "stream",
     "text": [
      "True\n"
     ]
    }
   ],
   "source": [
    "import string\n",
    "str12=input(\"Enter String :\")\n",
    "\n",
    "def pangramString(str):\n",
    "    str=str.lower()\n",
    "    # Get all letters in the English alphabet\n",
    "    alpha = set(string.ascii_lowercase)\n",
    "    return alpha.issubset(set(str))\n",
    "\n",
    "print(pangramString(str12))"
   ]
  },
  {
   "cell_type": "markdown",
   "metadata": {},
   "source": [
    "### 13) Write a function that returns the number of uppercase and lowercase letters in the given string. \n",
    "#### example : Input : s1 = AbcDEfgh ,Ouptput : no_upper = 3, no_lower = 5"
   ]
  },
  {
   "cell_type": "code",
   "execution_count": 13,
   "metadata": {},
   "outputs": [
    {
     "name": "stdin",
     "output_type": "stream",
     "text": [
      "Enter String: AbcDEfgh\n"
     ]
    },
    {
     "name": "stdout",
     "output_type": "stream",
     "text": [
      "(5, 3)\n"
     ]
    }
   ],
   "source": [
    "str13= input(\"Enter String:\")\n",
    "def upper_lower(str):\n",
    "    lower_count=0\n",
    "    upper_count=0\n",
    "    for i in str:\n",
    "        if(i.islower()):\n",
    "            lower_count+=1\n",
    "        else:\n",
    "            upper_count+=1\n",
    "    return lower_count,upper_count\n",
    "\n",
    "print(upper_lower(str13))"
   ]
  },
  {
   "cell_type": "markdown",
   "metadata": {},
   "source": [
    "### 14) Write a lambda function to get smallest number from the given two numbers."
   ]
  },
  {
   "cell_type": "code",
   "execution_count": 15,
   "metadata": {},
   "outputs": [
    {
     "name": "stdin",
     "output_type": "stream",
     "text": [
      "Enter Number 1: 78\n",
      "Enter Number 2: 20\n"
     ]
    },
    {
     "name": "stdout",
     "output_type": "stream",
     "text": [
      "20\n"
     ]
    }
   ],
   "source": [
    "num1=int(input(\"Enter Number 1:\"))\n",
    "num2=int(input(\"Enter Number 2:\"))\n",
    "\n",
    "small=lambda num1,num2: num1 if num1<num2 else num2\n",
    "\n",
    "print(small(num1,num2))"
   ]
  },
  {
   "cell_type": "markdown",
   "metadata": {},
   "source": [
    "### 15) For the given list of names of students, extract the names having more that 7 characters. Use filter()."
   ]
  },
  {
   "cell_type": "code",
   "execution_count": 21,
   "metadata": {},
   "outputs": [
    {
     "name": "stdin",
     "output_type": "stream",
     "text": [
      "Enter Size of list: 5\n",
      "Enter Student Name: shreyas\n",
      "Enter Student Name: virangiv\n",
      "Enter Student Name: haramo harmi\n",
      "Enter Student Name: vishva bav\n",
      "Enter Student Name: yashvi kotdi\n"
     ]
    },
    {
     "name": "stdout",
     "output_type": "stream",
     "text": [
      "['virangiv', 'haramo harmi', 'vishva bav', 'yashvi kotdi']\n"
     ]
    }
   ],
   "source": [
    "n15=int(input(\"Enter Size of list:\"))\n",
    "l15=[]\n",
    "for i in range(n15):\n",
    "    l15.append(input(\"Enter Student Name:\"))\n",
    "\n",
    "# l1=list(map(len,l15))\n",
    "l2=list(filter(lambda x:len(x)>7,l15))\n",
    "print(l2)"
   ]
  },
  {
   "cell_type": "markdown",
   "metadata": {},
   "source": [
    "### 16) For the given list of names of students, convert the first letter of all the names into uppercase. use map()."
   ]
  },
  {
   "cell_type": "code",
   "execution_count": 25,
   "metadata": {},
   "outputs": [
    {
     "name": "stdin",
     "output_type": "stream",
     "text": [
      "Enter Size of list: 3\n",
      "Enter Student Name: viri\n",
      "Enter Student Name: tani\n",
      "Enter Student Name: harmi\n"
     ]
    },
    {
     "name": "stdout",
     "output_type": "stream",
     "text": [
      "['Viri', 'Tani', 'Harmi']\n"
     ]
    }
   ],
   "source": [
    "n16=int(input(\"Enter Size of list:\"))\n",
    "l16=[]\n",
    "for i in range(n16):\n",
    "    l16.append(input(\"Enter Student Name:\"))\n",
    "\n",
    "list16=list(map(lambda x: x[0].upper()+x[1::],l16))\n",
    "\n",
    "print(list16)"
   ]
  },
  {
   "cell_type": "markdown",
   "metadata": {},
   "source": [
    "### 17) Write udfs to call the functions with following types of arguments:\n",
    "1. Positional Arguments\n",
    "2. Keyword Arguments\n",
    "3. Default Arguments\n",
    "4. Variable Legngth Positional(*args) & variable length Keyword Arguments (**kwargs)\n",
    "5. Keyword-Only & Positional Only Arguments"
   ]
  },
  {
   "cell_type": "code",
   "execution_count": 53,
   "metadata": {},
   "outputs": [
    {
     "name": "stdout",
     "output_type": "stream",
     "text": [
      "30\n",
      "200\n",
      "30\n",
      "10.0\n",
      "{'University': 'Darshan'}\n",
      "None\n",
      "10 20\n",
      "(30, 40)\n",
      "50 60\n",
      "None\n"
     ]
    }
   ],
   "source": [
    "# positional Arguments\n",
    "def add(a,b):\n",
    "    return a+b\n",
    "    \n",
    "# keyword Argument\n",
    "def multiple(a,b):\n",
    "    return a*b\n",
    "    \n",
    "# default Argument\n",
    "def sub(a=30,b=20):\n",
    "    return a-b\n",
    "    \n",
    "# Variable Legngth Positional(*args) \n",
    "def divi(*,a,b):\n",
    "    return a/b\n",
    "\n",
    "# variable length Keyword Arguments (**kwargs)\n",
    "def detail(**key):\n",
    "    print(key)\n",
    "\n",
    "# Keyword-Only & Positional Only Arguments\n",
    "def key_pos(a,b,*args,c,d):\n",
    "    print(a,b)\n",
    "    print(args)\n",
    "    print(c,d)\n",
    "\n",
    "\n",
    "print(add(10,20))\n",
    "print(multiple(a=10,b=20))\n",
    "print(sub(70,40))\n",
    "print(divi(a=50,b=5))\n",
    "print(detail(University=\"Darshan\"))\n",
    "print(key_pos(10,20,30,40,c=50,d=60))"
   ]
  },
  {
   "cell_type": "code",
   "execution_count": null,
   "metadata": {},
   "outputs": [],
   "source": []
  }
 ],
 "metadata": {
  "kernelspec": {
   "display_name": "Python 3 (ipykernel)",
   "language": "python",
   "name": "python3"
  },
  "language_info": {
   "codemirror_mode": {
    "name": "ipython",
    "version": 3
   },
   "file_extension": ".py",
   "mimetype": "text/x-python",
   "name": "python",
   "nbconvert_exporter": "python",
   "pygments_lexer": "ipython3",
   "version": "3.12.7"
  }
 },
 "nbformat": 4,
 "nbformat_minor": 4
}
